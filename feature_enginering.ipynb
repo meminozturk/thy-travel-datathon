{
 "cells": [
  {
   "cell_type": "code",
   "execution_count": 1,
   "metadata": {},
   "outputs": [],
   "source": [
    "import numpy as np\n",
    "import pandas as pd\n",
    "import os\n",
    "import datetime\n",
    "# import pandas_profiling\n",
    "import gc\n",
    "import time\n",
    "import random\n",
    "import matplotlib.pyplot as plt\n",
    "import seaborn as sns\n",
    "import pickle\n",
    "from tqdm import tqdm_notebook as tqdm\n",
    "\n",
    "from sklearn.preprocessing import LabelEncoder\n",
    "from sklearn.model_selection import StratifiedKFold, KFold, RepeatedKFold, GroupKFold, train_test_split\n",
    "from sklearn.metrics import mean_squared_error, roc_auc_score, accuracy_score, confusion_matrix, recall_score, precision_score, f1_score,mean_absolute_error\n",
    "from math import sqrt\n",
    "\n",
    "from sklearn import metrics                                                                                                                                                                                                                                                                                                                                                                                                                                                                                                                                                                                                                                                                                                                                                \n",
    "import lightgbm as lgb\n",
    "import xgboost as xgb\n",
    "from catboost import CatBoostRegressor, CatBoostClassifier\n",
    "\n",
    "pd.set_option('display.max_columns', 250)\n",
    "pd.set_option('display.max_rows', 250)\n",
    "import warnings\n",
    "warnings.filterwarnings(\"ignore\")\n",
    "%matplotlib inline"
   ]
  },
  {
   "cell_type": "code",
   "execution_count": 2,
   "metadata": {},
   "outputs": [],
   "source": [
    "from multiprocessing import  Pool\n",
    "from joblib import Parallel, delayed\n",
    "import multiprocessing\n",
    "\n",
    "def applyParallel(dfGrouped, func,n_jobs = 12):\n",
    "    retLst = Parallel(n_jobs=n_jobs)(delayed(func)(group) for name, group in dfGrouped)\n",
    "    return pd.concat(retLst)\n",
    "\n",
    "def parallelize_dataframe(df, func, n_cores=12):\n",
    "    df_split = np.array_split(df, n_cores)\n",
    "    pool = Pool(n_cores)\n",
    "    df = pd.concat(pool.map(func, df_split)).reset_index()\n",
    "    pool.close()\n",
    "    pool.join()\n",
    "    return df\n",
    "\n",
    "def mape(y_true, y_pred): \n",
    "    mape = (np.abs((y_true - y_pred)/(y_true))).mean()\n",
    "    return mape \n",
    "\n",
    "def preprocessing(train,test):\n",
    "    cat_cols = train.select_dtypes(\"object\").columns\n",
    "    for col in tqdm(cat_cols):\n",
    "        if col in train.columns:\n",
    "            train[col] = train[col].fillna(\"unseen\").astype(str)\n",
    "            test[col] = test[col].fillna(\"unseen\").astype(str)\n",
    "            le = LabelEncoder()\n",
    "            le.fit(list(train[col])+list(test[col]))\n",
    "            train[col] = le.transform(train[col])\n",
    "            train[col] = train[col].astype(\"category\")        \n",
    "            test[col] = le.transform(test[col])\n",
    "            test[col] = test[col].astype(\"category\")         \n",
    "    return train, test\n",
    "\n",
    "def kfold_lightgbm(params, train_df, test_df, FEATS_EXCLUDED,n_estimators, LOCAL_TEST=True):\n",
    "    print(\"Starting LightGBM. Train shape: {}\".format(train_df.shape))\n",
    "    num_folds = 3\n",
    "    folds = KFold(n_splits = num_folds, shuffle=True, random_state=326)\n",
    "\n",
    "    # Create arrays and dataframes to store results\n",
    "    oof_preds = np.zeros(train_df.shape[0])\n",
    "    sub_preds = np.zeros(test_df.shape[0])\n",
    "    feature_importance = pd.DataFrame()\n",
    "    final_rmse = 0\n",
    "    final_mape = 0\n",
    "    final_mae = 0\n",
    "    feats = [f for f in train_df.columns if f not in FEATS_EXCLUDED+[\"PSGR_COUNT\"]]\n",
    "    clfs = []\n",
    "    # k-fold\n",
    "    for n_fold, (train_idx, valid_idx) in enumerate(folds.split(train_df[feats], train_df['PSGR_COUNT'])):\n",
    "        train_x, train_y = train_df[feats].iloc[train_idx], train_df['PSGR_COUNT'].iloc[train_idx]\n",
    "        valid_x, valid_y = train_df[feats].iloc[valid_idx], train_df['PSGR_COUNT'].iloc[valid_idx]\n",
    "    \n",
    "        lgb_train = lgb.Dataset(train_x,label=train_y,free_raw_data=False)\n",
    "        lgb_test = lgb.Dataset(valid_x,label=valid_y,free_raw_data=False)\n",
    "\n",
    "        reg = lgb.train(params,lgb_train,valid_sets=[lgb_train, lgb_test],valid_names=['train', 'valid'],\n",
    "                        num_boost_round=n_estimators,early_stopping_rounds= 200,verbose_eval=1000)\n",
    "\n",
    "        oof_preds[valid_idx] = reg.predict(valid_x, num_iteration=reg.best_iteration)\n",
    "\n",
    "        # set data structure\n",
    "        #reg = lgb.LGBMRegressor(**params, n_estimators = n_estimators)   \n",
    "        #reg.fit(train_x, train_y, eval_set=[(train_x, train_y), (valid_x, valid_y)], \n",
    "        #          eval_metric=\"auc\",verbose=333, early_stopping_rounds=333)       \n",
    "        \n",
    "        #oof_preds[valid_idx] = reg.predict(valid_x)\n",
    "        if LOCAL_TEST==False:\n",
    "            sub_preds += reg.predict(test_df[feats], num_iteration=reg.best_iteration) / folds.n_splits\n",
    "\n",
    "        imp = pd.DataFrame()\n",
    "        imp[\"feature\"] = train_x.columns\n",
    "        imp[\"importance\"] = np.log1p(reg.feature_importance(importance_type='gain', iteration=reg.best_iteration))\n",
    "        imp[\"fold\"] = n_fold + 1\n",
    "        feature_importance = pd.concat([feature_importance, imp], axis=0)\n",
    "         \n",
    "        curr_rmse = sqrt(mean_squared_error(valid_y, oof_preds[valid_idx]))\n",
    "        curr_mape = mape(valid_y, oof_preds[valid_idx]) \n",
    "        curr_mae = mean_absolute_error(valid_y, oof_preds[valid_idx])\n",
    "        \n",
    "        print('Fold %2d -> rmse : %.6f -- mape : %.6f -- mae : %.6f' % (n_fold + 1, curr_rmse,curr_mape,curr_mae)) \n",
    "        del reg, train_x, train_y, valid_x, valid_y\n",
    "        gc.collect()\n",
    "        \n",
    "    final_rmse = sqrt(mean_squared_error(train_df['PSGR_COUNT'], oof_preds))\n",
    "    final_mape = mape(train_df['PSGR_COUNT'], oof_preds) \n",
    "    final_mae = mean_absolute_error(train_df['PSGR_COUNT'], oof_preds)\n",
    "              \n",
    "    print('Overall RMSE : %.6f - Overall MAPE : %.6f - Overall MAE : %.6f' % (final_rmse,final_mape,final_mae))\n",
    "        \n",
    "    return sub_preds, oof_preds, feature_importance"
   ]
  },
  {
   "cell_type": "code",
   "execution_count": 3,
   "metadata": {},
   "outputs": [],
   "source": [
    "def day_features(df):\n",
    "    df['LEG1_DEP_DATE_GMT_MONTH'] = df['LEG1_DEP_DATE_GMT'].dt.month.astype(np.int8)\n",
    "    df['LEG1_DEP_DATE_GMT_WEEK'] = df['LEG1_DEP_DATE_GMT'].dt.weekofyear.astype(np.int8)\n",
    "    df['LEG1_DEP_DATE_GMT_DAYOFYEAR'] = df['LEG1_DEP_DATE_GMT'].dt.dayofyear.astype(np.int16)\n",
    "    df['LEG1_DEP_DATE_GMT_DAYOFWEEK'] = df['LEG1_DEP_DATE_GMT'].dt.dayofweek.astype(np.int16)\n",
    "    df['LEG1_DEP_DATE_GMT_DAYOFMONTH'] = df['LEG1_DEP_DATE_GMT'].dt.day.astype(np.int16)\n",
    "    return df \n",
    "\n",
    "def time_features(df):\n",
    "    df[\"LEG1_DEP_TIME_GMT_HOUR\"] = df[\"LEG1_DEP_TIME_GMT\"].apply(lambda x: int(x)//100)\n",
    "    df[\"LEG1_DEP_TIME_GMT_MINUTE\"] = df[\"LEG1_DEP_TIME_GMT\"].apply(lambda x: int(x)%100)\n",
    "    df[\"LEG1_DEP_DATE_GMT\"] = df[\"LEG1_DEP_DATE_GMT\"].apply(lambda x: datetime.datetime.strptime(str(x), '%Y%m%d'))\n",
    "    df[\"LEG1_DEP_DATE_GMT\"] = pd.to_datetime(df[\"LEG1_DEP_DATE_GMT\"]) + pd.to_timedelta(df[\"LEG1_DEP_TIME_GMT_HOUR\"], unit='h') + pd.to_timedelta(df[\"LEG1_DEP_TIME_GMT_MINUTE\"], unit='m')\n",
    "\n",
    "    df[\"LEG2_DEP_TIME_GMT_HOUR\"] = df[\"LEG2_DEP_TIME_GMT\"].apply(lambda x: int(x)//100)\n",
    "    df[\"LEG2_DEP_TIME_GMT_MINUTE\"] = df[\"LEG2_DEP_TIME_GMT\"].apply(lambda x: int(x)%100)\n",
    "    df[\"LEG2_DEP_DATE_GMT\"] = df[\"LEG2_DEP_DATE_GMT\"].apply(lambda x: datetime.datetime.strptime(str(x), '%Y%m%d'))\n",
    "    df[\"LEG2_DEP_DATE_GMT\"] = pd.to_datetime(df[\"LEG2_DEP_DATE_GMT\"]) + pd.to_timedelta(df[\"LEG2_DEP_TIME_GMT_HOUR\"], unit='h') + pd.to_timedelta(df[\"LEG2_DEP_TIME_GMT_MINUTE\"], unit='m')\n",
    "\n",
    "    df[\"LEG1_ARR_TIME_GMT_HOUR\"] = df[\"LEG1_ARR_TIME_GMT\"].apply(lambda x: int(x)//100)\n",
    "    df[\"LEG1_ARR_TIME_GMT_MINUTE\"] = df[\"LEG1_ARR_TIME_GMT\"].apply(lambda x: int(x)%100)\n",
    "    df[\"LEG1_ARR_DATE_GMT\"] = df[\"LEG1_ARR_DATE_GMT\"].apply(lambda x: datetime.datetime.strptime(str(x), '%Y%m%d'))\n",
    "    df[\"LEG1_ARR_DATE_GMT\"] = pd.to_datetime(df[\"LEG1_ARR_DATE_GMT\"]) + pd.to_timedelta(df[\"LEG1_ARR_TIME_GMT_HOUR\"], unit='h') + pd.to_timedelta(df[\"LEG1_ARR_TIME_GMT_MINUTE\"], unit='m')\n",
    "\n",
    "    df[\"LEG2_ARR_TIME_GMT_HOUR\"] = df[\"LEG2_ARR_TIME_GMT\"].apply(lambda x: int(x)//100)\n",
    "    df[\"LEG2_ARR_TIME_GMT_MINUTE\"] = df[\"LEG2_ARR_TIME_GMT\"].apply(lambda x: int(x)%100)\n",
    "    df[\"LEG2_ARR_DATE_GMT\"] = df[\"LEG2_ARR_DATE_GMT\"].apply(lambda x: datetime.datetime.strptime(str(x), '%Y%m%d'))\n",
    "    df[\"LEG2_ARR_DATE_GMT\"] = pd.to_datetime(df[\"LEG2_ARR_DATE_GMT\"]) + pd.to_timedelta(df[\"LEG2_ARR_TIME_GMT_HOUR\"], unit='h') + pd.to_timedelta(df[\"LEG2_ARR_TIME_GMT_MINUTE\"], unit='m')\n",
    "    return df"
   ]
  },
  {
   "cell_type": "code",
   "execution_count": 4,
   "metadata": {},
   "outputs": [],
   "source": [
    "dtypes_dict ={}\n",
    "for col in ['CARRIER', 'FLIGHT_NO', 'AIRCRAFT_TYPE', 'OND', 'OND_SELL_CLASS','LEG1_SELL_CLASS', 'OND_CABIN_CLASS',\n",
    "            'LEG1_CABIN_CLASS', 'ORIGIN','HUB', 'DESTINATION']:\n",
    "    dtypes_dict[col]=\"category\"\n",
    "    \n",
    "train_raw = pd.read_csv(\"datathon_case_2/case_2_train_data.csv\",dtype=dtypes_dict)\n",
    "test = pd.read_csv(\"datathon_case_2/case_2_result.csv\",dtype=dtypes_dict)\n",
    "print(train_raw.shape, test.shape)"
   ]
  },
  {
   "cell_type": "code",
   "execution_count": 5,
   "metadata": {},
   "outputs": [],
   "source": [
    "train = train_raw.groupby('LEG1_DEP_DATE_GMT').apply(lambda x: x.sample(frac = 0.1))\n",
    "train = train.reset_index(drop=True)\n",
    "train.shape"
   ]
  },
  {
   "cell_type": "code",
   "execution_count": 6,
   "metadata": {},
   "outputs": [],
   "source": [
    "# sns.distplot(sample[\"LEG1_DEP_DATE_GMT\"])\n",
    "# sns.distplot(test[\"LEG1_DEP_DATE_GMT\"])\n",
    "# plt.savefig('presentation/sample_test_distribution.png')"
   ]
  },
  {
   "cell_type": "code",
   "execution_count": 7,
   "metadata": {},
   "outputs": [],
   "source": [
    "# np.sqrt(mean_squared_error(train[\"PSGR_COUNT\"], np.ones(len(train))))\n",
    "# mape(train[\"PSGR_COUNT\"], np.ones(len(train)))\n",
    "# mean_absolute_error(train[\"PSGR_COUNT\"], np.ones(len(train)))"
   ]
  },
  {
   "cell_type": "code",
   "execution_count": 8,
   "metadata": {},
   "outputs": [],
   "source": [
    "# FLIGHT_NO            0.001030\n",
    "# AIRCRAFT_TYPE        0.003992"
   ]
  },
  {
   "cell_type": "code",
   "execution_count": 9,
   "metadata": {},
   "outputs": [],
   "source": [
    "# 1 saat/gün/hafta/ay bazında havalimanı/taşıyıcı/hub uçuş sayıları\n",
    "# Bir önceki uçuştan geçen süre, Bir sonraki uçuşa kalan süre\n",
    "# Uçakların min mean max yolcu sayıları"
   ]
  },
  {
   "cell_type": "code",
   "execution_count": 10,
   "metadata": {},
   "outputs": [],
   "source": [
    "train = parallelize_dataframe(df = train, func = time_features)\n",
    "test = parallelize_dataframe(df = test, func = time_features)"
   ]
  },
  {
   "cell_type": "code",
   "execution_count": 11,
   "metadata": {},
   "outputs": [],
   "source": [
    "# train.to_pickle('train_sample.pkl')\n",
    "# test.to_pickle('test_sample.pkl')"
   ]
  },
  {
   "cell_type": "markdown",
   "metadata": {},
   "source": [
    "## Feature Engineering"
   ]
  },
  {
   "cell_type": "code",
   "execution_count": 5,
   "metadata": {},
   "outputs": [
    {
     "name": "stdout",
     "output_type": "stream",
     "text": [
      "Shape control: (9056281, 31) (100000, 31)\n"
     ]
    }
   ],
   "source": [
    "train = pd.read_pickle('train_sample.pkl')\n",
    "test = pd.read_pickle('test_sample.pkl')    \n",
    "print('Shape control:', train.shape, test.shape)"
   ]
  },
  {
   "cell_type": "code",
   "execution_count": 6,
   "metadata": {},
   "outputs": [],
   "source": [
    "train[\"FLIGHT_NO\"] = train[\"FLIGHT_NO\"].astype(str).fillna(\"UNSEEN\").astype(\"category\")\n",
    "train[\"AIRCRAFT_TYPE\"] = train[\"AIRCRAFT_TYPE\"].astype(str).fillna(\"UNSEEN\").astype(\"category\")\n",
    "\n",
    "test[\"FLIGHT_NO\"] = test[\"FLIGHT_NO\"].astype(str).fillna(\"UNSEEN\").astype(\"category\")\n",
    "test[\"AIRCRAFT_TYPE\"] = test[\"AIRCRAFT_TYPE\"].astype(str).fillna(\"UNSEEN\").astype(\"category\")"
   ]
  },
  {
   "cell_type": "code",
   "execution_count": 7,
   "metadata": {},
   "outputs": [],
   "source": [
    "train[\"OND_ALL\"] = (train[\"ORIGIN\"].astype(\"str\")+train[\"HUB\"].astype(str)+train[\"DESTINATION\"].astype(str)).astype(\"category\")\n",
    "test[\"OND_ALL\"] = (test[\"ORIGIN\"].astype(\"str\")+test[\"HUB\"].astype(str)+test[\"DESTINATION\"].astype(str)).astype(\"category\")"
   ]
  },
  {
   "cell_type": "code",
   "execution_count": 8,
   "metadata": {},
   "outputs": [],
   "source": [
    "cat_cols = ['CARRIER', 'FLIGHT_NO', 'AIRCRAFT_TYPE', 'OND', 'OND_SELL_CLASS','LEG1_SELL_CLASS',\n",
    "            'OND_CABIN_CLASS', 'LEG1_CABIN_CLASS', 'ORIGIN','HUB', 'DESTINATION']\n",
    "\n",
    "cat_cols.append(\"OND_ALL\")"
   ]
  },
  {
   "cell_type": "code",
   "execution_count": 9,
   "metadata": {},
   "outputs": [
    {
     "data": {
      "text/html": [
       "<div>\n",
       "<style scoped>\n",
       "    .dataframe tbody tr th:only-of-type {\n",
       "        vertical-align: middle;\n",
       "    }\n",
       "\n",
       "    .dataframe tbody tr th {\n",
       "        vertical-align: top;\n",
       "    }\n",
       "\n",
       "    .dataframe thead th {\n",
       "        text-align: right;\n",
       "    }\n",
       "</style>\n",
       "<table border=\"1\" class=\"dataframe\">\n",
       "  <thead>\n",
       "    <tr style=\"text-align: right;\">\n",
       "      <th></th>\n",
       "      <th>index</th>\n",
       "      <th>0</th>\n",
       "    </tr>\n",
       "  </thead>\n",
       "  <tbody>\n",
       "    <tr>\n",
       "      <td>6</td>\n",
       "      <td>OND_CABIN_CLASS</td>\n",
       "      <td>5</td>\n",
       "    </tr>\n",
       "    <tr>\n",
       "      <td>7</td>\n",
       "      <td>LEG1_CABIN_CLASS</td>\n",
       "      <td>5</td>\n",
       "    </tr>\n",
       "    <tr>\n",
       "      <td>5</td>\n",
       "      <td>LEG1_SELL_CLASS</td>\n",
       "      <td>30</td>\n",
       "    </tr>\n",
       "    <tr>\n",
       "      <td>4</td>\n",
       "      <td>OND_SELL_CLASS</td>\n",
       "      <td>31</td>\n",
       "    </tr>\n",
       "    <tr>\n",
       "      <td>0</td>\n",
       "      <td>CARRIER</td>\n",
       "      <td>78</td>\n",
       "    </tr>\n",
       "    <tr>\n",
       "      <td>2</td>\n",
       "      <td>AIRCRAFT_TYPE</td>\n",
       "      <td>148</td>\n",
       "    </tr>\n",
       "    <tr>\n",
       "      <td>9</td>\n",
       "      <td>HUB</td>\n",
       "      <td>955</td>\n",
       "    </tr>\n",
       "    <tr>\n",
       "      <td>10</td>\n",
       "      <td>DESTINATION</td>\n",
       "      <td>2039</td>\n",
       "    </tr>\n",
       "    <tr>\n",
       "      <td>8</td>\n",
       "      <td>ORIGIN</td>\n",
       "      <td>2509</td>\n",
       "    </tr>\n",
       "    <tr>\n",
       "      <td>1</td>\n",
       "      <td>FLIGHT_NO</td>\n",
       "      <td>9981</td>\n",
       "    </tr>\n",
       "    <tr>\n",
       "      <td>3</td>\n",
       "      <td>OND</td>\n",
       "      <td>270430</td>\n",
       "    </tr>\n",
       "    <tr>\n",
       "      <td>11</td>\n",
       "      <td>OND_ALL</td>\n",
       "      <td>635587</td>\n",
       "    </tr>\n",
       "  </tbody>\n",
       "</table>\n",
       "</div>"
      ],
      "text/plain": [
       "               index       0\n",
       "6    OND_CABIN_CLASS       5\n",
       "7   LEG1_CABIN_CLASS       5\n",
       "5    LEG1_SELL_CLASS      30\n",
       "4     OND_SELL_CLASS      31\n",
       "0            CARRIER      78\n",
       "2      AIRCRAFT_TYPE     148\n",
       "9                HUB     955\n",
       "10       DESTINATION    2039\n",
       "8             ORIGIN    2509\n",
       "1          FLIGHT_NO    9981\n",
       "3                OND  270430\n",
       "11           OND_ALL  635587"
      ]
     },
     "execution_count": 9,
     "metadata": {},
     "output_type": "execute_result"
    }
   ],
   "source": [
    "train[cat_cols].nunique().reset_index().sort_values(0)"
   ]
  },
  {
   "cell_type": "code",
   "execution_count": 10,
   "metadata": {},
   "outputs": [
    {
     "data": {
      "text/plain": [
       "['OND_CABIN_CLASS',\n",
       " 'LEG1_CABIN_CLASS',\n",
       " 'LEG1_SELL_CLASS',\n",
       " 'OND_SELL_CLASS',\n",
       " 'CARRIER',\n",
       " 'AIRCRAFT_TYPE',\n",
       " 'HUB',\n",
       " 'DESTINATION',\n",
       " 'ORIGIN',\n",
       " 'FLIGHT_NO',\n",
       " 'OND',\n",
       " 'OND_ALL']"
      ]
     },
     "execution_count": 10,
     "metadata": {},
     "output_type": "execute_result"
    }
   ],
   "source": [
    "train[cat_cols].nunique().reset_index().sort_values(0)[\"index\"].tolist()"
   ]
  },
  {
   "cell_type": "markdown",
   "metadata": {},
   "source": [
    "### Fligt Time"
   ]
  },
  {
   "cell_type": "code",
   "execution_count": 11,
   "metadata": {},
   "outputs": [],
   "source": [
    "train[\"LEG1_DURATION\"] = ((train[\"LEG1_ARR_DATE_GMT\"] - train[\"LEG1_DEP_DATE_GMT\"])/np.timedelta64(60, 's')).astype(int)\n",
    "train[\"LEG2_DURATION\"] = ((train[\"LEG2_ARR_DATE_GMT\"] - train[\"LEG2_DEP_DATE_GMT\"])/np.timedelta64(60, 's')).astype(int)\n",
    "train[\"LEG_DURATION\"] = ((train[\"LEG2_ARR_DATE_GMT\"] - train[\"LEG1_DEP_DATE_GMT\"])/np.timedelta64(60, 's')).astype(int)"
   ]
  },
  {
   "cell_type": "code",
   "execution_count": 12,
   "metadata": {},
   "outputs": [],
   "source": [
    "train = day_features(train)"
   ]
  },
  {
   "cell_type": "code",
   "execution_count": 12,
   "metadata": {},
   "outputs": [],
   "source": [
    "# for col in tqdm(['CARRIER','AIRCRAFT_TYPE', 'HUB', 'DESTINATION','ORIGIN','FLIGHT_NO']):\n",
    "#     train[col+\"_lagdep1\"] = (train.groupby(col)[\"LEG2_DEP_DATE_GMT\"].diff()/np.timedelta64(60, 's')).astype(float)\n",
    "#     train[col+\"_leaddep1\"] = -1*(train.groupby(col)[\"LEG2_DEP_DATE_GMT\"].diff(-1)/np.timedelta64(60, 's')).astype(float)  "
   ]
  },
  {
   "cell_type": "markdown",
   "metadata": {},
   "source": [
    "### Aggregations"
   ]
  },
  {
   "cell_type": "code",
   "execution_count": 13,
   "metadata": {},
   "outputs": [],
   "source": [
    "# HUBFLIGHT_NO_nunique\n",
    "# DESTINATIONORIGIN_nunique\t13.537768\n",
    "# # LEG1_ARR_TIME_GMT_HOUR\t13.391553\n",
    "# # ORIGINOND_nunique\t13.080300\n",
    "# # CARRIERHUB_nunique\t13.026749\n",
    "# DESTINATIONFLIGHT_NO_nunique\t13.024159"
   ]
  },
  {
   "cell_type": "code",
   "execution_count": 13,
   "metadata": {},
   "outputs": [],
   "source": [
    "df = pd.concat([train[cat_cols],test[cat_cols]])"
   ]
  },
  {
   "cell_type": "code",
   "execution_count": 14,
   "metadata": {},
   "outputs": [],
   "source": [
    "col1 = \"HUB\"\n",
    "col2 = \"FLIGHT_NO\"\n",
    "temp = df[[col1,col2]].copy()\n",
    "temp = temp.groupby([col1])[col2].agg([\"nunique\"]).reset_index().rename({\"nunique\":col1+\"_\"+col2+\"_nunique\"},axis = 1)\n",
    "train = train.merge(temp,\"left\",col1)"
   ]
  },
  {
   "cell_type": "code",
   "execution_count": 15,
   "metadata": {},
   "outputs": [],
   "source": [
    "col1 = \"DESTINATION\"\n",
    "col2 = \"ORIGIN\"\n",
    "temp = df[[col1,col2]].copy()\n",
    "temp = temp.groupby([col1])[col2].agg([\"nunique\"]).reset_index().rename({\"nunique\":col1+\"_\"+col2+\"_nunique\"},axis = 1)\n",
    "train = train.merge(temp,\"left\",col1)"
   ]
  },
  {
   "cell_type": "code",
   "execution_count": 16,
   "metadata": {},
   "outputs": [],
   "source": [
    "col1 = \"DESTINATION\"\n",
    "col2 = \"FLIGHT_NO\"\n",
    "temp = df[[col1,col2]].copy()\n",
    "temp = temp.groupby([col1])[col2].agg([\"nunique\"]).reset_index().rename({\"nunique\":col1+\"_\"+col2+\"_nunique\"},axis = 1)\n",
    "train = train.merge(temp,\"left\",col1)"
   ]
  },
  {
   "cell_type": "code",
   "execution_count": 17,
   "metadata": {},
   "outputs": [],
   "source": [
    "for col in ['HUB', 'DESTINATION']:\n",
    "    train[col] = train[col].astype(\"category\")"
   ]
  },
  {
   "cell_type": "markdown",
   "metadata": {},
   "source": [
    "### Numeric"
   ]
  },
  {
   "cell_type": "code",
   "execution_count": 19,
   "metadata": {},
   "outputs": [
    {
     "data": {
      "application/vnd.jupyter.widget-view+json": {
       "model_id": "77c19b416f7749968ea6d3cd9c40f002",
       "version_major": 2,
       "version_minor": 0
      },
      "text/plain": [
       "A Jupyter Widget"
      ]
     },
     "metadata": {},
     "output_type": "display_data"
    },
    {
     "name": "stdout",
     "output_type": "stream",
     "text": [
      "\n"
     ]
    }
   ],
   "source": [
    "# aggs = {}\n",
    "# main_col = \"LEG_DURATION\"\n",
    "# for col in tqdm([\"LEG1_SELL_CLASS\",\"OND_SELL_CLASS\"]):\n",
    "#     for agg in ['mean','std']:\n",
    "#         train[col+\"_\"+main_col+\"_\"+agg] = train.groupby(col)[main_col].transform(agg)"
   ]
  },
  {
   "cell_type": "code",
   "execution_count": null,
   "metadata": {},
   "outputs": [],
   "source": [
    "# aggs = {}\n",
    "# main_col = \"LEG_DURATION\"\n",
    "# for col in tqdm([\"LEG1_SELL_CLASS\",\"OND_SELL_CLASS\"]):\n",
    "#     for agg in ['mean','std']:\n",
    "#         train[col+\"_\"+main_col+\"_\"+agg] = train.groupby(col)[main_col].transform(agg)"
   ]
  },
  {
   "cell_type": "code",
   "execution_count": 40,
   "metadata": {},
   "outputs": [
    {
     "data": {
      "application/vnd.jupyter.widget-view+json": {
       "model_id": "981ebd6b9fbd4886839dced115f08bbc",
       "version_major": 2,
       "version_minor": 0
      },
      "text/plain": [
       "A Jupyter Widget"
      ]
     },
     "metadata": {},
     "output_type": "display_data"
    },
    {
     "name": "stdout",
     "output_type": "stream",
     "text": [
      "\n"
     ]
    }
   ],
   "source": [
    "# for col in tqdm(['DESTINATION','ORIGIN','HUB']):\n",
    "#     train[col+\"_lagdep1\"] = (train.groupby(col)[\"LEG1_DEP_DATE_GMT\"].diff()/np.timedelta64(60, 's')).astype(float).fillna(999999)\n",
    "#     train[col+\"_leaddep1\"] = -1*(train.groupby(col)[\"LEG1_DEP_DATE_GMT\"].diff(-1)/np.timedelta64(60, 's')).astype(float).fillna(999999)"
   ]
  },
  {
   "cell_type": "markdown",
   "metadata": {},
   "source": [
    "### Target and Frequency Encoding"
   ]
  },
  {
   "cell_type": "code",
   "execution_count": 18,
   "metadata": {},
   "outputs": [
    {
     "data": {
      "application/vnd.jupyter.widget-view+json": {
       "model_id": "9921d0d119cd418988fafe4e89bdc7d1",
       "version_major": 2,
       "version_minor": 0
      },
      "text/plain": [
       "A Jupyter Widget"
      ]
     },
     "metadata": {},
     "output_type": "display_data"
    },
    {
     "name": "stdout",
     "output_type": "stream",
     "text": [
      "\n"
     ]
    }
   ],
   "source": [
    "#Frequency of Categorical values\n",
    "for col in tqdm(['CARRIER', 'FLIGHT_NO', 'AIRCRAFT_TYPE', 'OND', 'ORIGIN','HUB', 'DESTINATION','OND_ALL']):\n",
    "    freq_dict = pd.concat([train[col],test[col]]).value_counts().to_dict()\n",
    "    train[col+\"_FREQ\"] = train[col].map(freq_dict)\n",
    "    test[col+\"_FREQ\"] = test[col].map(freq_dict)\n",
    "    \n",
    "    agg_opts = ['mean']\n",
    "    agg_dict = train.groupby(col).agg({'PSGR_COUNT':agg_opts}).to_dict()\n",
    "    for opt in agg_opts:\n",
    "        train[col+\"_\"+opt] = train[col].map(agg_dict[('PSGR_COUNT', opt)])\n",
    "        test[col+\"_\"+opt] = test[col].map(agg_dict[('PSGR_COUNT', opt)])"
   ]
  },
  {
   "cell_type": "markdown",
   "metadata": {},
   "source": [
    "### Model"
   ]
  },
  {
   "cell_type": "code",
   "execution_count": 32,
   "metadata": {},
   "outputs": [],
   "source": [
    "train_df = train.copy()\n",
    "test_df = test.copy()"
   ]
  },
  {
   "cell_type": "code",
   "execution_count": 26,
   "metadata": {},
   "outputs": [
    {
     "data": {
      "text/plain": [
       "41"
      ]
     },
     "execution_count": 26,
     "metadata": {},
     "output_type": "execute_result"
    }
   ],
   "source": [
    "# FEATS_EXCLUDED = [\"ID_REC\",\"LEG1_DEP_DATE_GMT\",\"LEG1_ARR_DATE_GMT\",\"LEG2_DEP_DATE_GMT\",\"LEG2_ARR_DATE_GMT\",\"LEG1_DEP_TIME_GMT\",\n",
    "#                   \"LEG1_DEP_TIME_GMT\",\"LEG1_ARR_TIME_GMT\",\"LEG2_DEP_TIME_GMT\",\"LEG2_ARR_TIME_GMT\"]\n",
    "\n",
    "# for col in FEATS_EXCLUDED:\n",
    "#     if col in train_df:\n",
    "#         del train_df[col], test_df[col]\n",
    "        \n",
    "# gc.collect()"
   ]
  },
  {
   "cell_type": "code",
   "execution_count": 33,
   "metadata": {},
   "outputs": [
    {
     "data": {
      "text/plain": [
       "45"
      ]
     },
     "execution_count": 33,
     "metadata": {},
     "output_type": "execute_result"
    }
   ],
   "source": [
    "FEATS_EXCLUDED = [\"ID_REC\",\"LEG1_DEP_DATE_GMT\",\"LEG1_ARR_DATE_GMT\",\"LEG2_DEP_DATE_GMT\",\"LEG2_ARR_DATE_GMT\",\"LEG1_DEP_TIME_GMT\",\n",
    "                  \"LEG1_DEP_TIME_GMT\",\"LEG1_ARR_TIME_GMT\",\"LEG2_DEP_TIME_GMT\",\"LEG2_ARR_TIME_GMT\",\n",
    "                  'CARRIER', 'FLIGHT_NO', 'AIRCRAFT_TYPE', 'OND', 'ORIGIN','HUB', 'DESTINATION','OND_ALL']\n",
    "for col in FEATS_EXCLUDED:\n",
    "    if col in train:\n",
    "        del train[col], test[col]\n",
    "        \n",
    "gc.collect()"
   ]
  },
  {
   "cell_type": "code",
   "execution_count": 21,
   "metadata": {},
   "outputs": [
    {
     "data": {
      "application/vnd.jupyter.widget-view+json": {
       "model_id": "a7a5f3a722194cf0b414586a3c3f1803",
       "version_major": 2,
       "version_minor": 0
      },
      "text/plain": [
       "A Jupyter Widget"
      ]
     },
     "metadata": {},
     "output_type": "display_data"
    },
    {
     "name": "stdout",
     "output_type": "stream",
     "text": [
      "\n"
     ]
    }
   ],
   "source": [
    "# for col in tqdm(['FLIGHT_NO', 'OND', 'OND_ALL']):\n",
    "#     if col in train_df.columns:\n",
    "#         le = LabelEncoder()\n",
    "#         le.fit(list(train_df[col])+list(test_df[col]))\n",
    "#         train_df[col] = le.transform(train_df[col])\n",
    "#         test_df[col] = le.transform(test_df[col])"
   ]
  },
  {
   "cell_type": "code",
   "execution_count": 28,
   "metadata": {},
   "outputs": [],
   "source": [
    "# for col in ['OND_CABIN_CLASS', 'LEG1_CABIN_CLASS', 'LEG1_SELL_CLASS', 'OND_SELL_CLASS']:\n",
    "#     train_df[col] = train_df[col].astype(\"category\")\n",
    "#     test_df[col] = test_df[col].astype(\"category\")"
   ]
  },
  {
   "cell_type": "code",
   "execution_count": 21,
   "metadata": {
    "scrolled": true
   },
   "outputs": [],
   "source": [
    "# train_df, test_df = preprocessing(train_df,test_df)"
   ]
  },
  {
   "cell_type": "code",
   "execution_count": 34,
   "metadata": {
    "collapsed": true
   },
   "outputs": [
    {
     "name": "stdout",
     "output_type": "stream",
     "text": [
      "Starting LightGBM. Train shape: (9056281, 61)\n",
      "Training until validation scores don't improve for 200 rounds.\n",
      "[1000]\ttrain's rmse: 2.49323\tvalid's rmse: 2.55105\n",
      "[2000]\ttrain's rmse: 2.43495\tvalid's rmse: 2.53459\n",
      "[3000]\ttrain's rmse: 2.39275\tvalid's rmse: 2.52617\n",
      "[4000]\ttrain's rmse: 2.35795\tvalid's rmse: 2.52054\n",
      "[5000]\ttrain's rmse: 2.32936\tvalid's rmse: 2.51684\n",
      "[6000]\ttrain's rmse: 2.30485\tvalid's rmse: 2.51455\n",
      "[7000]\ttrain's rmse: 2.28225\tvalid's rmse: 2.51275\n",
      "[8000]\ttrain's rmse: 2.26214\tvalid's rmse: 2.51148\n",
      "[9000]\ttrain's rmse: 2.24355\tvalid's rmse: 2.51054\n",
      "Did not meet early stopping. Best iteration is:\n",
      "[9999]\ttrain's rmse: 2.22523\tvalid's rmse: 2.50957\n",
      "Fold  1 -> rmse : 2.509573 -- mape : 0.607282 -- mae : 1.147738\n",
      "Training until validation scores don't improve for 200 rounds.\n",
      "[1000]\ttrain's rmse: 2.48857\tvalid's rmse: 2.55298\n",
      "[2000]\ttrain's rmse: 2.43331\tvalid's rmse: 2.53781\n",
      "[3000]\ttrain's rmse: 2.39055\tvalid's rmse: 2.52947\n",
      "[4000]\ttrain's rmse: 2.35605\tvalid's rmse: 2.52442\n",
      "[5000]\ttrain's rmse: 2.32682\tvalid's rmse: 2.52064\n",
      "[6000]\ttrain's rmse: 2.30249\tvalid's rmse: 2.51793\n",
      "[7000]\ttrain's rmse: 2.27926\tvalid's rmse: 2.51566\n",
      "[8000]\ttrain's rmse: 2.25876\tvalid's rmse: 2.51407\n",
      "[9000]\ttrain's rmse: 2.24066\tvalid's rmse: 2.51313\n",
      "Did not meet early stopping. Best iteration is:\n",
      "[9999]\ttrain's rmse: 2.2228\tvalid's rmse: 2.51234\n",
      "Fold  2 -> rmse : 2.512340 -- mape : 0.607520 -- mae : 1.149133\n",
      "Training until validation scores don't improve for 200 rounds.\n",
      "[1000]\ttrain's rmse: 2.48213\tvalid's rmse: 2.5734\n",
      "[2000]\ttrain's rmse: 2.42581\tvalid's rmse: 2.55674\n",
      "[3000]\ttrain's rmse: 2.38498\tvalid's rmse: 2.54812\n",
      "[4000]\ttrain's rmse: 2.3515\tvalid's rmse: 2.54219\n",
      "[5000]\ttrain's rmse: 2.32231\tvalid's rmse: 2.53892\n",
      "[6000]\ttrain's rmse: 2.29703\tvalid's rmse: 2.53639\n",
      "[7000]\ttrain's rmse: 2.27278\tvalid's rmse: 2.53481\n",
      "Early stopping, best iteration is:\n",
      "[7683]\ttrain's rmse: 2.25852\tvalid's rmse: 2.53384\n",
      "Fold  3 -> rmse : 2.533838 -- mape : 0.608602 -- mae : 1.152056\n",
      "Overall RMSE : 2.518607 - Overall MAPE : 0.607801 - Overall MAE : 1.149643\n"
     ]
    }
   ],
   "source": [
    "params = {'objective': 'regression','metric': 'rmse','learning_rate': 0.05,'verbose': -1,'nthread':32,\n",
    "          'num_leaves': 10, 'min_data': 50, 'max_depth': 10, 'num_leaves': 31, 'min_data_in_leaf': 50, 'feature_fraction': 0.8,'bagging_fraction': 0.8}\n",
    "\n",
    "sub_preds, oof_preds, feature_importance = kfold_lightgbm(params,train_df,test_df,FEATS_EXCLUDED,9999)"
   ]
  },
  {
   "cell_type": "code",
   "execution_count": 35,
   "metadata": {
    "collapsed": true
   },
   "outputs": [
    {
     "data": {
      "text/html": [
       "<div>\n",
       "<style scoped>\n",
       "    .dataframe tbody tr th:only-of-type {\n",
       "        vertical-align: middle;\n",
       "    }\n",
       "\n",
       "    .dataframe tbody tr th {\n",
       "        vertical-align: top;\n",
       "    }\n",
       "\n",
       "    .dataframe thead th {\n",
       "        text-align: right;\n",
       "    }\n",
       "</style>\n",
       "<table border=\"1\" class=\"dataframe\">\n",
       "  <thead>\n",
       "    <tr style=\"text-align: right;\">\n",
       "      <th></th>\n",
       "      <th>feature</th>\n",
       "      <th>importance</th>\n",
       "    </tr>\n",
       "  </thead>\n",
       "  <tbody>\n",
       "    <tr>\n",
       "      <td>36</td>\n",
       "      <td>OND_ALL_mean</td>\n",
       "      <td>18.072544</td>\n",
       "    </tr>\n",
       "    <tr>\n",
       "      <td>28</td>\n",
       "      <td>LEG1_SELL_CLASS</td>\n",
       "      <td>17.196183</td>\n",
       "    </tr>\n",
       "    <tr>\n",
       "      <td>40</td>\n",
       "      <td>OND_mean</td>\n",
       "      <td>16.634963</td>\n",
       "    </tr>\n",
       "    <tr>\n",
       "      <td>39</td>\n",
       "      <td>OND_SELL_CLASS</td>\n",
       "      <td>16.450000</td>\n",
       "    </tr>\n",
       "    <tr>\n",
       "      <td>5</td>\n",
       "      <td>CARRIER_mean</td>\n",
       "      <td>16.020593</td>\n",
       "    </tr>\n",
       "    <tr>\n",
       "      <td>3</td>\n",
       "      <td>CARRIER_LEG_DURATION_mean</td>\n",
       "      <td>15.934079</td>\n",
       "    </tr>\n",
       "    <tr>\n",
       "      <td>35</td>\n",
       "      <td>OND_ALL_FREQ</td>\n",
       "      <td>15.598502</td>\n",
       "    </tr>\n",
       "    <tr>\n",
       "      <td>22</td>\n",
       "      <td>LEG1_DEP_DATE_GMT_DAYOFYEAR</td>\n",
       "      <td>15.598253</td>\n",
       "    </tr>\n",
       "    <tr>\n",
       "      <td>6</td>\n",
       "      <td>CONNECTION_TIME</td>\n",
       "      <td>15.511586</td>\n",
       "    </tr>\n",
       "    <tr>\n",
       "      <td>13</td>\n",
       "      <td>FLIGHT_NO_mean</td>\n",
       "      <td>15.426707</td>\n",
       "    </tr>\n",
       "    <tr>\n",
       "      <td>37</td>\n",
       "      <td>OND_CABIN_CLASS</td>\n",
       "      <td>15.306672</td>\n",
       "    </tr>\n",
       "    <tr>\n",
       "      <td>4</td>\n",
       "      <td>CARRIER_LEG_DURATION_std</td>\n",
       "      <td>15.305779</td>\n",
       "    </tr>\n",
       "    <tr>\n",
       "      <td>34</td>\n",
       "      <td>LEG_DURATION</td>\n",
       "      <td>15.296609</td>\n",
       "    </tr>\n",
       "    <tr>\n",
       "      <td>2</td>\n",
       "      <td>CARRIER_FREQ</td>\n",
       "      <td>15.264786</td>\n",
       "    </tr>\n",
       "    <tr>\n",
       "      <td>16</td>\n",
       "      <td>HUB_mean</td>\n",
       "      <td>15.203742</td>\n",
       "    </tr>\n",
       "    <tr>\n",
       "      <td>11</td>\n",
       "      <td>DETUR_FACTOR</td>\n",
       "      <td>15.142937</td>\n",
       "    </tr>\n",
       "    <tr>\n",
       "      <td>42</td>\n",
       "      <td>ORIGIN_mean</td>\n",
       "      <td>15.079073</td>\n",
       "    </tr>\n",
       "    <tr>\n",
       "      <td>38</td>\n",
       "      <td>OND_FREQ</td>\n",
       "      <td>15.071242</td>\n",
       "    </tr>\n",
       "    <tr>\n",
       "      <td>20</td>\n",
       "      <td>LEG1_DEP_DATE_GMT_DAYOFMONTH</td>\n",
       "      <td>15.059441</td>\n",
       "    </tr>\n",
       "    <tr>\n",
       "      <td>27</td>\n",
       "      <td>LEG1_DURATION</td>\n",
       "      <td>15.024970</td>\n",
       "    </tr>\n",
       "    <tr>\n",
       "      <td>10</td>\n",
       "      <td>DESTINATION_mean</td>\n",
       "      <td>14.962947</td>\n",
       "    </tr>\n",
       "    <tr>\n",
       "      <td>15</td>\n",
       "      <td>HUB_FREQ</td>\n",
       "      <td>14.883066</td>\n",
       "    </tr>\n",
       "    <tr>\n",
       "      <td>24</td>\n",
       "      <td>LEG1_DEP_DATE_GMT_WEEK</td>\n",
       "      <td>14.858248</td>\n",
       "    </tr>\n",
       "    <tr>\n",
       "      <td>12</td>\n",
       "      <td>FLIGHT_NO_FREQ</td>\n",
       "      <td>14.853632</td>\n",
       "    </tr>\n",
       "    <tr>\n",
       "      <td>33</td>\n",
       "      <td>LEG2_DURATION</td>\n",
       "      <td>14.711946</td>\n",
       "    </tr>\n",
       "    <tr>\n",
       "      <td>41</td>\n",
       "      <td>ORIGIN_FREQ</td>\n",
       "      <td>14.660577</td>\n",
       "    </tr>\n",
       "    <tr>\n",
       "      <td>9</td>\n",
       "      <td>DESTINATION_ORIGIN_nunique</td>\n",
       "      <td>14.554367</td>\n",
       "    </tr>\n",
       "    <tr>\n",
       "      <td>32</td>\n",
       "      <td>LEG2_DEP_TIME_GMT_MINUTE</td>\n",
       "      <td>14.479136</td>\n",
       "    </tr>\n",
       "    <tr>\n",
       "      <td>21</td>\n",
       "      <td>LEG1_DEP_DATE_GMT_DAYOFWEEK</td>\n",
       "      <td>14.464240</td>\n",
       "    </tr>\n",
       "    <tr>\n",
       "      <td>1</td>\n",
       "      <td>AIRCRAFT_TYPE_mean</td>\n",
       "      <td>14.412395</td>\n",
       "    </tr>\n",
       "    <tr>\n",
       "      <td>18</td>\n",
       "      <td>LEG1_ARR_TIME_GMT_MINUTE</td>\n",
       "      <td>14.409486</td>\n",
       "    </tr>\n",
       "    <tr>\n",
       "      <td>29</td>\n",
       "      <td>LEG2_ARR_TIME_GMT_HOUR</td>\n",
       "      <td>14.384897</td>\n",
       "    </tr>\n",
       "    <tr>\n",
       "      <td>30</td>\n",
       "      <td>LEG2_ARR_TIME_GMT_MINUTE</td>\n",
       "      <td>14.380523</td>\n",
       "    </tr>\n",
       "    <tr>\n",
       "      <td>8</td>\n",
       "      <td>DESTINATION_FREQ</td>\n",
       "      <td>14.368772</td>\n",
       "    </tr>\n",
       "    <tr>\n",
       "      <td>19</td>\n",
       "      <td>LEG1_CABIN_CLASS</td>\n",
       "      <td>14.365585</td>\n",
       "    </tr>\n",
       "    <tr>\n",
       "      <td>25</td>\n",
       "      <td>LEG1_DEP_TIME_GMT_HOUR</td>\n",
       "      <td>14.360408</td>\n",
       "    </tr>\n",
       "    <tr>\n",
       "      <td>14</td>\n",
       "      <td>HUB_FLIGHT_NO_nunique</td>\n",
       "      <td>14.353917</td>\n",
       "    </tr>\n",
       "    <tr>\n",
       "      <td>26</td>\n",
       "      <td>LEG1_DEP_TIME_GMT_MINUTE</td>\n",
       "      <td>14.302433</td>\n",
       "    </tr>\n",
       "    <tr>\n",
       "      <td>31</td>\n",
       "      <td>LEG2_DEP_TIME_GMT_HOUR</td>\n",
       "      <td>14.300994</td>\n",
       "    </tr>\n",
       "    <tr>\n",
       "      <td>17</td>\n",
       "      <td>LEG1_ARR_TIME_GMT_HOUR</td>\n",
       "      <td>14.244060</td>\n",
       "    </tr>\n",
       "    <tr>\n",
       "      <td>7</td>\n",
       "      <td>DESTINATION_FLIGHT_NO_nunique</td>\n",
       "      <td>14.231039</td>\n",
       "    </tr>\n",
       "    <tr>\n",
       "      <td>0</td>\n",
       "      <td>AIRCRAFT_TYPE_FREQ</td>\n",
       "      <td>14.130981</td>\n",
       "    </tr>\n",
       "    <tr>\n",
       "      <td>23</td>\n",
       "      <td>LEG1_DEP_DATE_GMT_MONTH</td>\n",
       "      <td>13.506719</td>\n",
       "    </tr>\n",
       "  </tbody>\n",
       "</table>\n",
       "</div>"
      ],
      "text/plain": [
       "                          feature  importance\n",
       "36                   OND_ALL_mean   18.072544\n",
       "28                LEG1_SELL_CLASS   17.196183\n",
       "40                       OND_mean   16.634963\n",
       "39                 OND_SELL_CLASS   16.450000\n",
       "5                    CARRIER_mean   16.020593\n",
       "3       CARRIER_LEG_DURATION_mean   15.934079\n",
       "35                   OND_ALL_FREQ   15.598502\n",
       "22    LEG1_DEP_DATE_GMT_DAYOFYEAR   15.598253\n",
       "6                 CONNECTION_TIME   15.511586\n",
       "13                 FLIGHT_NO_mean   15.426707\n",
       "37                OND_CABIN_CLASS   15.306672\n",
       "4        CARRIER_LEG_DURATION_std   15.305779\n",
       "34                   LEG_DURATION   15.296609\n",
       "2                    CARRIER_FREQ   15.264786\n",
       "16                       HUB_mean   15.203742\n",
       "11                   DETUR_FACTOR   15.142937\n",
       "42                    ORIGIN_mean   15.079073\n",
       "38                       OND_FREQ   15.071242\n",
       "20   LEG1_DEP_DATE_GMT_DAYOFMONTH   15.059441\n",
       "27                  LEG1_DURATION   15.024970\n",
       "10               DESTINATION_mean   14.962947\n",
       "15                       HUB_FREQ   14.883066\n",
       "24         LEG1_DEP_DATE_GMT_WEEK   14.858248\n",
       "12                 FLIGHT_NO_FREQ   14.853632\n",
       "33                  LEG2_DURATION   14.711946\n",
       "41                    ORIGIN_FREQ   14.660577\n",
       "9      DESTINATION_ORIGIN_nunique   14.554367\n",
       "32       LEG2_DEP_TIME_GMT_MINUTE   14.479136\n",
       "21    LEG1_DEP_DATE_GMT_DAYOFWEEK   14.464240\n",
       "1              AIRCRAFT_TYPE_mean   14.412395\n",
       "18       LEG1_ARR_TIME_GMT_MINUTE   14.409486\n",
       "29         LEG2_ARR_TIME_GMT_HOUR   14.384897\n",
       "30       LEG2_ARR_TIME_GMT_MINUTE   14.380523\n",
       "8                DESTINATION_FREQ   14.368772\n",
       "19               LEG1_CABIN_CLASS   14.365585\n",
       "25         LEG1_DEP_TIME_GMT_HOUR   14.360408\n",
       "14          HUB_FLIGHT_NO_nunique   14.353917\n",
       "26       LEG1_DEP_TIME_GMT_MINUTE   14.302433\n",
       "31         LEG2_DEP_TIME_GMT_HOUR   14.300994\n",
       "17         LEG1_ARR_TIME_GMT_HOUR   14.244060\n",
       "7   DESTINATION_FLIGHT_NO_nunique   14.231039\n",
       "0              AIRCRAFT_TYPE_FREQ   14.130981\n",
       "23        LEG1_DEP_DATE_GMT_MONTH   13.506719"
      ]
     },
     "execution_count": 35,
     "metadata": {},
     "output_type": "execute_result"
    }
   ],
   "source": [
    "feature_importance.groupby(\"feature\")[\"importance\"].agg(\"mean\").reset_index().sort_values(\"importance\",ascending=False)"
   ]
  },
  {
   "cell_type": "code",
   "execution_count": 36,
   "metadata": {
    "scrolled": true
   },
   "outputs": [
    {
     "name": "stdout",
     "output_type": "stream",
     "text": [
      "Final rmse : 2.517732 -- mape : 0.605513 -- mae : 1.147082\n"
     ]
    }
   ],
   "source": [
    "oof_preds1 = np.where(oof_preds<1,1,oof_preds)\n",
    "sub_preds1 = np.where(sub_preds<1,1,sub_preds)\n",
    "final_rmse = sqrt(mean_squared_error(train_df['PSGR_COUNT'], oof_preds1))\n",
    "final_mape = mape(train_df['PSGR_COUNT'], oof_preds1) \n",
    "final_mae = mean_absolute_error(train_df['PSGR_COUNT'], oof_preds1)\n",
    "print('Final rmse : %.6f -- mape : %.6f -- mae : %.6f' % (final_rmse,final_mape,final_mae)) "
   ]
  },
  {
   "cell_type": "code",
   "execution_count": null,
   "metadata": {},
   "outputs": [],
   "source": [
    "# 26 Features 3 Fold Final rmse : 2.628596 -- mape : 0.649741 -- mae : 1.211657\n",
    "# 31 Features 3 Fold Final rmse : 2.623387 -- mape : 0.647424 -- mae : 1.208084\n",
    "# 34 Features + drop neg connection Final rmse : 2.620878 -- mape : 0.646605 -- mae : 1.207204 "
   ]
  },
  {
   "cell_type": "code",
   "execution_count": 43,
   "metadata": {},
   "outputs": [
    {
     "data": {
      "image/png": "[encoded data removed]",
      "text/plain": [
       "<Figure size 1008x1872 with 1 Axes>"
      ]
     },
     "metadata": {},
     "output_type": "display_data"
    }
   ],
   "source": [
    "cols = (feature_importance[[\"feature\", \"importance\"]].groupby(\"feature\").mean().sort_values(by=\"importance\", ascending=False)[:33].index)\n",
    "best_features = feature_importance.loc[feature_importance.feature.isin(cols)]\n",
    "\n",
    "plt.figure(figsize=(14,26))\n",
    "sns.barplot(x=\"importance\", y=\"feature\", data=best_features.sort_values(by=\"importance\",ascending=False))\n",
    "plt.title('LightGBM Features (averaged over folds)')\n",
    "plt.tight_layout()\n",
    "plt.savefig('presentation/lgbm_base_importances.png')"
   ]
  },
  {
   "cell_type": "code",
   "execution_count": 24,
   "metadata": {},
   "outputs": [],
   "source": [
    "mean_cols = [col for col in train.columns if \"_mean\" in col]\n",
    "temp = train[mean_cols].copy()\n",
    "temp.columns = [col.split(\"_\")[0] for col in mean_cols]"
   ]
  },
  {
   "cell_type": "code",
   "execution_count": 27,
   "metadata": {},
   "outputs": [],
   "source": [
    "for col in [\"PSGR_COUNT\",\"CONNECTION_TIME\",\"DETUR_FACTOR\",\"LEG1_DURATION\",\"LEG2_DURATION\",\"LEG_DURATION\"]:\n",
    "    temp[col] = train[col]\n",
    "    mean_cols.append(col)"
   ]
  },
  {
   "cell_type": "code",
   "execution_count": 32,
   "metadata": {},
   "outputs": [
    {
     "data": {
      "text/html": [
       "<div>\n",
       "<style scoped>\n",
       "    .dataframe tbody tr th:only-of-type {\n",
       "        vertical-align: middle;\n",
       "    }\n",
       "\n",
       "    .dataframe tbody tr th {\n",
       "        vertical-align: top;\n",
       "    }\n",
       "\n",
       "    .dataframe thead th {\n",
       "        text-align: right;\n",
       "    }\n",
       "</style>\n",
       "<table border=\"1\" class=\"dataframe\">\n",
       "  <thead>\n",
       "    <tr style=\"text-align: right;\">\n",
       "      <th></th>\n",
       "      <th>CARRIER</th>\n",
       "      <th>FLIGHT</th>\n",
       "      <th>AIRCRAFT</th>\n",
       "      <th>OND</th>\n",
       "      <th>ORIGIN</th>\n",
       "      <th>HUB</th>\n",
       "      <th>DESTINATION</th>\n",
       "      <th>OND</th>\n",
       "      <th>PSGR_COUNT</th>\n",
       "      <th>CONNECTION_TIME</th>\n",
       "      <th>DETUR_FACTOR</th>\n",
       "      <th>LEG1_DURATION</th>\n",
       "      <th>LEG2_DURATION</th>\n",
       "      <th>LEG_DURATION</th>\n",
       "    </tr>\n",
       "  </thead>\n",
       "  <tbody>\n",
       "    <tr>\n",
       "      <td>0</td>\n",
       "      <td>2.123311</td>\n",
       "      <td>2.565012</td>\n",
       "      <td>2.805818</td>\n",
       "      <td>3.423905</td>\n",
       "      <td>2.376058</td>\n",
       "      <td>2.129927</td>\n",
       "      <td>2.772722</td>\n",
       "      <td>3.881579</td>\n",
       "      <td>9</td>\n",
       "      <td>215</td>\n",
       "      <td>1.070729</td>\n",
       "      <td>570</td>\n",
       "      <td>410</td>\n",
       "      <td>1195</td>\n",
       "    </tr>\n",
       "    <tr>\n",
       "      <td>1</td>\n",
       "      <td>1.734697</td>\n",
       "      <td>2.056361</td>\n",
       "      <td>1.755380</td>\n",
       "      <td>1.812500</td>\n",
       "      <td>1.813594</td>\n",
       "      <td>1.748878</td>\n",
       "      <td>1.447406</td>\n",
       "      <td>1.923077</td>\n",
       "      <td>1</td>\n",
       "      <td>148</td>\n",
       "      <td>1.030264</td>\n",
       "      <td>215</td>\n",
       "      <td>119</td>\n",
       "      <td>482</td>\n",
       "    </tr>\n",
       "    <tr>\n",
       "      <td>2</td>\n",
       "      <td>1.734697</td>\n",
       "      <td>1.995421</td>\n",
       "      <td>1.877482</td>\n",
       "      <td>1.595238</td>\n",
       "      <td>1.679884</td>\n",
       "      <td>1.689866</td>\n",
       "      <td>1.957906</td>\n",
       "      <td>2.000000</td>\n",
       "      <td>2</td>\n",
       "      <td>176</td>\n",
       "      <td>1.080443</td>\n",
       "      <td>145</td>\n",
       "      <td>131</td>\n",
       "      <td>452</td>\n",
       "    </tr>\n",
       "    <tr>\n",
       "      <td>3</td>\n",
       "      <td>2.131159</td>\n",
       "      <td>2.133593</td>\n",
       "      <td>2.350909</td>\n",
       "      <td>1.000000</td>\n",
       "      <td>3.033579</td>\n",
       "      <td>2.128613</td>\n",
       "      <td>1.856075</td>\n",
       "      <td>1.000000</td>\n",
       "      <td>1</td>\n",
       "      <td>445</td>\n",
       "      <td>1.255491</td>\n",
       "      <td>380</td>\n",
       "      <td>175</td>\n",
       "      <td>1000</td>\n",
       "    </tr>\n",
       "    <tr>\n",
       "      <td>4</td>\n",
       "      <td>1.787854</td>\n",
       "      <td>2.299859</td>\n",
       "      <td>2.110610</td>\n",
       "      <td>2.517241</td>\n",
       "      <td>2.268076</td>\n",
       "      <td>1.847002</td>\n",
       "      <td>1.743842</td>\n",
       "      <td>2.666667</td>\n",
       "      <td>2</td>\n",
       "      <td>49</td>\n",
       "      <td>1.025506</td>\n",
       "      <td>157</td>\n",
       "      <td>179</td>\n",
       "      <td>385</td>\n",
       "    </tr>\n",
       "  </tbody>\n",
       "</table>\n",
       "</div>"
      ],
      "text/plain": [
       "    CARRIER    FLIGHT  AIRCRAFT       OND    ORIGIN       HUB  DESTINATION  \\\n",
       "0  2.123311  2.565012  2.805818  3.423905  2.376058  2.129927     2.772722   \n",
       "1  1.734697  2.056361  1.755380  1.812500  1.813594  1.748878     1.447406   \n",
       "2  1.734697  1.995421  1.877482  1.595238  1.679884  1.689866     1.957906   \n",
       "3  2.131159  2.133593  2.350909  1.000000  3.033579  2.128613     1.856075   \n",
       "4  1.787854  2.299859  2.110610  2.517241  2.268076  1.847002     1.743842   \n",
       "\n",
       "        OND  PSGR_COUNT  CONNECTION_TIME  DETUR_FACTOR  LEG1_DURATION  \\\n",
       "0  3.881579           9              215      1.070729            570   \n",
       "1  1.923077           1              148      1.030264            215   \n",
       "2  2.000000           2              176      1.080443            145   \n",
       "3  1.000000           1              445      1.255491            380   \n",
       "4  2.666667           2               49      1.025506            157   \n",
       "\n",
       "   LEG2_DURATION  LEG_DURATION  \n",
       "0            410          1195  \n",
       "1            119           482  \n",
       "2            131           452  \n",
       "3            175          1000  \n",
       "4            179           385  "
      ]
     },
     "execution_count": 32,
     "metadata": {},
     "output_type": "execute_result"
    }
   ],
   "source": [
    "temp.head()"
   ]
  },
  {
   "cell_type": "code",
   "execution_count": 33,
   "metadata": {},
   "outputs": [
    {
     "data": {
      "text/plain": [
       "<seaborn.matrix.ClusterGrid at 0x7f10e5057dd8>"
      ]
     },
     "execution_count": 33,
     "metadata": {},
     "output_type": "execute_result"
    },
    {
     "data": {
      "image/png": "[encoded data removed]",
      "text/plain": [
       "<Figure size 720x720 with 4 Axes>"
      ]
     },
     "metadata": {},
     "output_type": "display_data"
    }
   ],
   "source": [
    "kw_cbar = {'vmax':1, 'vmin':-1, 'cmap': 'RdYlGn'}\n",
    "corr = temp.corr('spearman')\n",
    "sns.clustermap(corr, **kw_cbar)"
   ]
  },
  {
   "cell_type": "code",
   "execution_count": null,
   "metadata": {},
   "outputs": [],
   "source": []
  },
  {
   "cell_type": "code",
   "execution_count": 31,
   "metadata": {},
   "outputs": [
    {
     "data": {
      "image/png": "[encoded data removed]",
      "text/plain": [
       "<Figure size 432x288 with 1 Axes>"
      ]
     },
     "metadata": {},
     "output_type": "display_data"
    }
   ],
   "source": [
    "sns.set_style(None)\n",
    "sns.distplot(train[\"HUB_FREQ\"],hist=False)\n",
    "plt.savefig(\"presentation/frequency_encoding.png\")"
   ]
  },
  {
   "cell_type": "markdown",
   "metadata": {},
   "source": [
    "### Negative Connection Time"
   ]
  },
  {
   "cell_type": "code",
   "execution_count": 35,
   "metadata": {},
   "outputs": [],
   "source": [
    "def lgbm_fit(x_train, y_train, x_valid, y_valid):    \n",
    "    params = {'objective': 'regression','metric': 'rmse','learning_rate': 0.05,'verbose': -1,'nthread':32,\n",
    "          'num_leaves': 10, 'min_data': 50, 'max_depth': 10, 'num_leaves': 31, 'min_data_in_leaf': 50, 'feature_fraction': 0.8,'bagging_fraction': 0.8}\n",
    "    lgb_train = lgb.Dataset(x_train,label=y_train,free_raw_data=False)\n",
    "    lgb_test = lgb.Dataset(x_valid,label=y_valid,free_raw_data=False)\n",
    "\n",
    "    model = lgb.train(params,lgb_train,valid_sets=[lgb_train, lgb_test],valid_names=['train', 'valid'],\n",
    "                      num_boost_round=1000,early_stopping_rounds= 200,verbose_eval=333)\n",
    "\n",
    "    return model"
   ]
  },
  {
   "cell_type": "code",
   "execution_count": 28,
   "metadata": {
    "scrolled": true
   },
   "outputs": [
    {
     "data": {
      "text/plain": [
       "(174113, 43)"
      ]
     },
     "execution_count": 28,
     "metadata": {},
     "output_type": "execute_result"
    }
   ],
   "source": [
    "temp = train[train[\"CONNECTION_TIME\"]<0].copy()\n",
    "temp.shape"
   ]
  },
  {
   "cell_type": "code",
   "execution_count": 31,
   "metadata": {},
   "outputs": [
    {
     "data": {
      "text/plain": [
       "count    174113.000000\n",
       "mean        -28.815488\n",
       "std         115.785432\n",
       "min       -2844.000000\n",
       "25%         -20.000000\n",
       "50%         -12.000000\n",
       "75%          -6.000000\n",
       "max          -1.000000\n",
       "Name: CONNECTION_TIME, dtype: float64"
      ]
     },
     "execution_count": 31,
     "metadata": {},
     "output_type": "execute_result"
    }
   ],
   "source": [
    "temp[\"CONNECTION_TIME\"].describe()"
   ]
  },
  {
   "cell_type": "code",
   "execution_count": 30,
   "metadata": {},
   "outputs": [
    {
     "data": {
      "text/plain": [
       "(1837, 32)"
      ]
     },
     "execution_count": 30,
     "metadata": {},
     "output_type": "execute_result"
    }
   ],
   "source": [
    "test[test[\"CONNECTION_TIME\"]<0].shape"
   ]
  },
  {
   "cell_type": "code",
   "execution_count": 33,
   "metadata": {
    "scrolled": true
   },
   "outputs": [
    {
     "name": "stdout",
     "output_type": "stream",
     "text": [
      "LEG2_ARR_TIME_GMT 1 -696.0\n",
      "LEG2_ARR_TIME_GMT 2 -85.0\n",
      "LEG2_ARR_TIME_GMT 3 -55.0\n",
      "LEG2_ARR_TIME_GMT 4 -45.0\n",
      "LEG2_ARR_TIME_GMT 5 -40.0\n",
      "LEG2_ARR_TIME_GMT 6 -37.0\n",
      "LEG2_ARR_TIME_GMT 7 -35.0\n",
      "LEG2_ARR_TIME_GMT 8 -35.0\n",
      "LEG2_ARR_TIME_GMT 9 -32.0\n",
      "LEG2_ARR_TIME_GMT 10 -30.0\n",
      "LEG2_ARR_TIME_GMT 11 -30.0\n",
      "LEG2_ARR_TIME_GMT 12 -30.0\n",
      "LEG2_ARR_TIME_GMT 13 -29.0\n",
      "LEG2_ARR_TIME_GMT 14 -28.0\n",
      "LEG2_ARR_TIME_GMT 15 -26.0\n",
      "LEG2_ARR_TIME_GMT 16 -25.0\n",
      "LEG2_ARR_TIME_GMT 17 -25.0\n",
      "LEG2_ARR_TIME_GMT 18 -25.0\n",
      "LEG2_ARR_TIME_GMT 19 -25.0\n",
      "LEG2_ARR_TIME_GMT 20 -24.0\n",
      "LEG2_ARR_TIME_GMT 21 -23.0\n",
      "LEG2_ARR_TIME_GMT 22 -22.0\n",
      "LEG2_ARR_TIME_GMT 23 -21.0\n",
      "LEG2_ARR_TIME_GMT 24 -20.0\n"
     ]
    }
   ],
   "source": [
    "for i in range(1,25):\n",
    "    print(col,i,np.percentile(temp[\"CONNECTION_TIME\"],i))"
   ]
  },
  {
   "cell_type": "code",
   "execution_count": 37,
   "metadata": {},
   "outputs": [
    {
     "name": "stdout",
     "output_type": "stream",
     "text": [
      "Training until validation scores don't improve for 200 rounds.\n",
      "[333]\ttrain's rmse: 2.60315\tvalid's rmse: 2.68041\n",
      "[666]\ttrain's rmse: 2.56437\tvalid's rmse: 2.66658\n",
      "[999]\ttrain's rmse: 2.539\tvalid's rmse: 2.65885\n",
      "Did not meet early stopping. Best iteration is:\n",
      "[1000]\ttrain's rmse: 2.53898\tvalid's rmse: 2.65885\n"
     ]
    }
   ],
   "source": [
    "x_train, x_valid, y_train, y_valid = train_test_split(train_df,train_df[\"PSGR_COUNT\"],train_size = 0.67,shuffle=True)\n",
    "del x_train[\"PSGR_COUNT\"], x_valid[\"PSGR_COUNT\"]\n",
    "gc.collect()\n",
    "x_train = x_train[x_train[\"CONNECTION_TIME\"] >= -20]\n",
    "y_train = y_train[y_train.index.isin(x_train.index)]\n",
    "\n",
    "model = lgbm_fit(x_train, y_train, x_valid, y_valid)"
   ]
  },
  {
   "cell_type": "code",
   "execution_count": 62,
   "metadata": {},
   "outputs": [
    {
     "name": "stdout",
     "output_type": "stream",
     "text": [
      "Training until validation scores don't improve for 200 rounds.\n",
      "[200]\ttrain's rmse: 2.62436\tvalid's rmse: 2.69139\n",
      "[400]\ttrain's rmse: 2.59282\tvalid's rmse: 2.67602\n",
      "[600]\ttrain's rmse: 2.57061\tvalid's rmse: 2.66708\n",
      "[800]\ttrain's rmse: 2.55427\tvalid's rmse: 2.66177\n",
      "[1000]\ttrain's rmse: 2.53892\tvalid's rmse: 2.65686\n",
      "Did not meet early stopping. Best iteration is:\n",
      "[1000]\ttrain's rmse: 2.53892\tvalid's rmse: 2.65686\n"
     ]
    }
   ],
   "source": [
    "x_train, x_valid, y_train, y_valid = train_test_split(train_df,train_df[\"PSGR_COUNT\"],train_size = 0.67,shuffle=True)\n",
    "del x_train[\"PSGR_COUNT\"], x_valid[\"PSGR_COUNT\"]\n",
    "gc.collect()\n",
    "\n",
    "model = lgbm_fit(x_train, y_train, x_valid, y_valid)"
   ]
  },
  {
   "cell_type": "code",
   "execution_count": 65,
   "metadata": {},
   "outputs": [
    {
     "name": "stdout",
     "output_type": "stream",
     "text": [
      "Training until validation scores don't improve for 200 rounds.\n",
      "[200]\ttrain's rmse: 2.63286\tvalid's rmse: 2.6923\n",
      "[400]\ttrain's rmse: 2.60135\tvalid's rmse: 2.67716\n",
      "[600]\ttrain's rmse: 2.57887\tvalid's rmse: 2.66838\n",
      "[800]\ttrain's rmse: 2.56035\tvalid's rmse: 2.66201\n",
      "[1000]\ttrain's rmse: 2.54485\tvalid's rmse: 2.65693\n",
      "Did not meet early stopping. Best iteration is:\n",
      "[1000]\ttrain's rmse: 2.54485\tvalid's rmse: 2.65693\n"
     ]
    }
   ],
   "source": [
    "x_train = x_train[x_train[\"CONNECTION_TIME\"] >= 0]\n",
    "y_train = y_train[y_train.index.isin(x_train.index)]\n",
    "\n",
    "model = lgbm_fit(x_train, y_train, x_valid, y_valid)"
   ]
  },
  {
   "cell_type": "code",
   "execution_count": 66,
   "metadata": {},
   "outputs": [
    {
     "name": "stdout",
     "output_type": "stream",
     "text": [
      "Training until validation scores don't improve for 200 rounds.\n",
      "[200]\ttrain's rmse: 2.63067\tvalid's rmse: 2.67108\n",
      "[400]\ttrain's rmse: 2.60025\tvalid's rmse: 2.65762\n",
      "[600]\ttrain's rmse: 2.57588\tvalid's rmse: 2.64881\n",
      "[800]\ttrain's rmse: 2.55793\tvalid's rmse: 2.6431\n",
      "[1000]\ttrain's rmse: 2.54259\tvalid's rmse: 2.63946\n",
      "Did not meet early stopping. Best iteration is:\n",
      "[1000]\ttrain's rmse: 2.54259\tvalid's rmse: 2.63946\n"
     ]
    }
   ],
   "source": [
    "x_train, x_valid, y_train, y_valid = train_test_split(train_df,train_df[\"PSGR_COUNT\"],train_size = 0.67,shuffle=True)\n",
    "del x_train[\"PSGR_COUNT\"], x_valid[\"PSGR_COUNT\"]\n",
    "gc.collect()\n",
    "x_train = x_train[x_train[\"CONNECTION_TIME\"] >= -33]\n",
    "y_train = y_train[y_train.index.isin(x_train.index)]\n",
    "\n",
    "model = lgbm_fit(x_train, y_train, x_valid, y_valid)"
   ]
  },
  {
   "cell_type": "code",
   "execution_count": 34,
   "metadata": {},
   "outputs": [
    {
     "name": "stdout",
     "output_type": "stream",
     "text": [
      "Training until validation scores don't improve for 200 rounds.\n",
      "[1000]\ttrain's rmse: 2.54462\tvalid's rmse: 2.63991\n",
      "Did not meet early stopping. Best iteration is:\n",
      "[1000]\ttrain's rmse: 2.54462\tvalid's rmse: 2.63991\n"
     ]
    }
   ],
   "source": [
    "x_train, x_valid, y_train, y_valid = train_test_split(train_df,train_df[\"PSGR_COUNT\"],train_size = 0.67,shuffle=True)\n",
    "del x_train[\"PSGR_COUNT\"], x_valid[\"PSGR_COUNT\"]\n",
    "gc.collect()\n",
    "x_train = x_train[x_train[\"CONNECTION_TIME\"] >= -100]\n",
    "y_train = y_train[y_train.index.isin(x_train.index)]\n",
    "\n",
    "model = lgbm_fit(x_train, y_train, x_valid, y_valid)"
   ]
  },
  {
   "cell_type": "code",
   "execution_count": 36,
   "metadata": {},
   "outputs": [
    {
     "name": "stdout",
     "output_type": "stream",
     "text": [
      "Training until validation scores don't improve for 200 rounds.\n",
      "[333]\ttrain's rmse: 2.60418\tvalid's rmse: 2.66382\n",
      "[666]\ttrain's rmse: 2.5692\tvalid's rmse: 2.65015\n",
      "[999]\ttrain's rmse: 2.54211\tvalid's rmse: 2.6403\n",
      "Did not meet early stopping. Best iteration is:\n",
      "[1000]\ttrain's rmse: 2.54208\tvalid's rmse: 2.64029\n"
     ]
    }
   ],
   "source": [
    "x_train, x_valid, y_train, y_valid = train_test_split(train_df,train_df[\"PSGR_COUNT\"],train_size = 0.67,shuffle=True)\n",
    "del x_train[\"PSGR_COUNT\"], x_valid[\"PSGR_COUNT\"]\n",
    "gc.collect()\n",
    "x_train = x_train[x_train[\"CONNECTION_TIME\"] >= -55]\n",
    "y_train = y_train[y_train.index.isin(x_train.index)]\n",
    "\n",
    "model = lgbm_fit(x_train, y_train, x_valid, y_valid)"
   ]
  },
  {
   "cell_type": "code",
   "execution_count": 38,
   "metadata": {},
   "outputs": [
    {
     "name": "stdout",
     "output_type": "stream",
     "text": [
      "Training until validation scores don't improve for 200 rounds.\n",
      "[333]\ttrain's rmse: 2.60836\tvalid's rmse: 2.6665\n",
      "[666]\ttrain's rmse: 2.57422\tvalid's rmse: 2.65261\n",
      "[999]\ttrain's rmse: 2.54653\tvalid's rmse: 2.64354\n",
      "Did not meet early stopping. Best iteration is:\n",
      "[1000]\ttrain's rmse: 2.54648\tvalid's rmse: 2.64352\n"
     ]
    }
   ],
   "source": [
    "x_train, x_valid, y_train, y_valid = train_test_split(train_df,train_df[\"PSGR_COUNT\"],train_size = 0.67,shuffle=True)\n",
    "del x_train[\"PSGR_COUNT\"], x_valid[\"PSGR_COUNT\"]\n",
    "gc.collect()\n",
    "x_train = x_train[x_train[\"CONNECTION_TIME\"] >= -40]\n",
    "y_train = y_train[y_train.index.isin(x_train.index)]\n",
    "\n",
    "model = lgbm_fit(x_train, y_train, x_valid, y_valid)"
   ]
  },
  {
   "cell_type": "markdown",
   "metadata": {},
   "source": [
    "### Correlation"
   ]
  },
  {
   "cell_type": "code",
   "execution_count": 84,
   "metadata": {},
   "outputs": [
    {
     "data": {
      "text/plain": [
       "0"
      ]
     },
     "execution_count": 84,
     "metadata": {},
     "output_type": "execute_result"
    }
   ],
   "source": [
    "def corr_count(corr_result):\n",
    "    count_zero = corr_result[[\"level_0\"]].append(corr_result[[\"level_1\"]].rename({\"level_1\":\"level_0\"},axis=1))\n",
    "    count_zero = count_zero.level_0.value_counts().reset_index().rename({\"index\":\"level_0\",\"level_0\":\"count_0\"},axis=1)\n",
    "    count_one = corr_result[[\"level_1\"]].append(corr_result[[\"level_0\"]].rename({\"level_0\":\"level_1\"},axis=1))\n",
    "    count_one = count_one.level_1.value_counts().reset_index().rename({\"index\":\"level_1\",\"level_1\":\"count_1\"},axis=1)\n",
    "    corr_result = corr_result.merge(count_zero,\"left\",\"level_0\").merge(count_one,\"left\",\"level_1\")\n",
    "    return corr_result\n",
    "\n",
    "def corr_eliminate(corr_result,k):\n",
    "    import random\n",
    "    corr_cols = []\n",
    "    corr_temp = corr_count(corr_result)\n",
    "    while corr_temp[\"correlation\"].max()>k:\n",
    "        if corr_temp.iloc[0,3] > corr_temp.iloc[0,4]:\n",
    "            corr_cols.append(corr_temp.iloc[0,0])\n",
    "        elif corr_temp.iloc[0,3] < corr_temp.iloc[0,4]:\n",
    "            corr_cols.append(corr_temp.iloc[0,1])\n",
    "        else:\n",
    "            corr_cols.append(corr_temp.iloc[0,random.randint(0,1)])\n",
    "        corr_temp = corr_temp[(corr_temp.level_0.isin(corr_cols)==False)&(corr_temp.level_1.isin(corr_cols)==False)]\n",
    "        corr_temp = corr_count(corr_temp)\n",
    "\n",
    "    return corr_cols\n",
    "\n",
    "### corr_result = pd.read_csv(\"output/corr_result.csv\")\n",
    "### corr_result = corr_result[corr_result.correlation<1]\n",
    "\n",
    "df = pd.concat([train,test],axis=0)\n",
    "\n",
    "for col in FEATS_EXCLUDED+[\"PSGR_COUNT\"]:\n",
    "    if col in df:\n",
    "        del df[col]\n",
    "        \n",
    "corr_matrix = df.corr().abs()\n",
    "corr = corr_matrix.unstack().sort_values(kind = \"quicksort\")\n",
    "del corr_matrix\n",
    "gc.collect()\n",
    "corr = pd.DataFrame(data=corr,columns = ['correlation'])\n",
    "corr = corr[(corr.correlation > 0.7)&(corr.correlation < 1)].reset_index()\n",
    "corr_result = corr.drop_duplicates(subset=['correlation']).sort_values(\"correlation\", ascending = False)\n",
    "del corr\n",
    "gc.collect()    "
   ]
  },
  {
   "cell_type": "code",
   "execution_count": 85,
   "metadata": {},
   "outputs": [
    {
     "data": {
      "text/html": [
       "<div>\n",
       "<style scoped>\n",
       "    .dataframe tbody tr th:only-of-type {\n",
       "        vertical-align: middle;\n",
       "    }\n",
       "\n",
       "    .dataframe tbody tr th {\n",
       "        vertical-align: top;\n",
       "    }\n",
       "\n",
       "    .dataframe thead th {\n",
       "        text-align: right;\n",
       "    }\n",
       "</style>\n",
       "<table border=\"1\" class=\"dataframe\">\n",
       "  <thead>\n",
       "    <tr style=\"text-align: right;\">\n",
       "      <th></th>\n",
       "      <th>level_0</th>\n",
       "      <th>level_1</th>\n",
       "      <th>correlation</th>\n",
       "    </tr>\n",
       "  </thead>\n",
       "  <tbody>\n",
       "    <tr>\n",
       "      <td>6</td>\n",
       "      <td>LEG1_DEP_DATE_GMT_MONTH</td>\n",
       "      <td>LEG1_DEP_DATE_GMT_DAYOFYEAR</td>\n",
       "      <td>0.996365</td>\n",
       "    </tr>\n",
       "    <tr>\n",
       "      <td>4</td>\n",
       "      <td>LEG1_DEP_DATE_GMT_WEEK</td>\n",
       "      <td>LEG1_DEP_DATE_GMT_DAYOFYEAR</td>\n",
       "      <td>0.988124</td>\n",
       "    </tr>\n",
       "    <tr>\n",
       "      <td>2</td>\n",
       "      <td>LEG1_DEP_DATE_GMT_MONTH</td>\n",
       "      <td>LEG1_DEP_DATE_GMT_WEEK</td>\n",
       "      <td>0.985451</td>\n",
       "    </tr>\n",
       "    <tr>\n",
       "      <td>0</td>\n",
       "      <td>DESTINATION_ORIGIN_nunique</td>\n",
       "      <td>DESTINATION_FLIGHT_NO_nunique</td>\n",
       "      <td>0.943208</td>\n",
       "    </tr>\n",
       "  </tbody>\n",
       "</table>\n",
       "</div>"
      ],
      "text/plain": [
       "                      level_0                        level_1  correlation\n",
       "6     LEG1_DEP_DATE_GMT_MONTH    LEG1_DEP_DATE_GMT_DAYOFYEAR     0.996365\n",
       "4      LEG1_DEP_DATE_GMT_WEEK    LEG1_DEP_DATE_GMT_DAYOFYEAR     0.988124\n",
       "2     LEG1_DEP_DATE_GMT_MONTH         LEG1_DEP_DATE_GMT_WEEK     0.985451\n",
       "0  DESTINATION_ORIGIN_nunique  DESTINATION_FLIGHT_NO_nunique     0.943208"
      ]
     },
     "execution_count": 85,
     "metadata": {},
     "output_type": "execute_result"
    }
   ],
   "source": [
    "corr_result"
   ]
  },
  {
   "cell_type": "code",
   "execution_count": null,
   "metadata": {},
   "outputs": [],
   "source": [
    "corr_cols = corr_eliminate(corr_result,0.9999)\n",
    "del corr_result\n",
    "del df\n",
    "gc.collect()"
   ]
  },
  {
   "cell_type": "markdown",
   "metadata": {},
   "source": [
    "### Versions"
   ]
  },
  {
   "cell_type": "code",
   "execution_count": 39,
   "metadata": {
    "collapsed": true
   },
   "outputs": [
    {
     "data": {
      "text/html": [
       "<div>\n",
       "<style scoped>\n",
       "    .dataframe tbody tr th:only-of-type {\n",
       "        vertical-align: middle;\n",
       "    }\n",
       "\n",
       "    .dataframe tbody tr th {\n",
       "        vertical-align: top;\n",
       "    }\n",
       "\n",
       "    .dataframe thead th {\n",
       "        text-align: right;\n",
       "    }\n",
       "</style>\n",
       "<table border=\"1\" class=\"dataframe\">\n",
       "  <thead>\n",
       "    <tr style=\"text-align: right;\">\n",
       "      <th></th>\n",
       "      <th>feature</th>\n",
       "      <th>importance</th>\n",
       "    </tr>\n",
       "  </thead>\n",
       "  <tbody>\n",
       "    <tr>\n",
       "      <td>20</td>\n",
       "      <td>OND</td>\n",
       "      <td>17.231087</td>\n",
       "    </tr>\n",
       "    <tr>\n",
       "      <td>1</td>\n",
       "      <td>CARRIER</td>\n",
       "      <td>17.170881</td>\n",
       "    </tr>\n",
       "    <tr>\n",
       "      <td>23</td>\n",
       "      <td>OND_SELL_CLASS</td>\n",
       "      <td>17.057945</td>\n",
       "    </tr>\n",
       "    <tr>\n",
       "      <td>5</td>\n",
       "      <td>FLIGHT_NO</td>\n",
       "      <td>16.772280</td>\n",
       "    </tr>\n",
       "    <tr>\n",
       "      <td>21</td>\n",
       "      <td>OND_ALL</td>\n",
       "      <td>16.761809</td>\n",
       "    </tr>\n",
       "    <tr>\n",
       "      <td>13</td>\n",
       "      <td>LEG1_SELL_CLASS</td>\n",
       "      <td>16.680160</td>\n",
       "    </tr>\n",
       "    <tr>\n",
       "      <td>6</td>\n",
       "      <td>HUB</td>\n",
       "      <td>16.268339</td>\n",
       "    </tr>\n",
       "    <tr>\n",
       "      <td>3</td>\n",
       "      <td>DESTINATION</td>\n",
       "      <td>16.249628</td>\n",
       "    </tr>\n",
       "    <tr>\n",
       "      <td>24</td>\n",
       "      <td>ORIGIN</td>\n",
       "      <td>15.968956</td>\n",
       "    </tr>\n",
       "    <tr>\n",
       "      <td>2</td>\n",
       "      <td>CONNECTION_TIME</td>\n",
       "      <td>15.328204</td>\n",
       "    </tr>\n",
       "    <tr>\n",
       "      <td>22</td>\n",
       "      <td>OND_CABIN_CLASS</td>\n",
       "      <td>15.124746</td>\n",
       "    </tr>\n",
       "    <tr>\n",
       "      <td>0</td>\n",
       "      <td>AIRCRAFT_TYPE</td>\n",
       "      <td>15.003013</td>\n",
       "    </tr>\n",
       "    <tr>\n",
       "      <td>19</td>\n",
       "      <td>LEG_DURATION</td>\n",
       "      <td>14.891704</td>\n",
       "    </tr>\n",
       "    <tr>\n",
       "      <td>4</td>\n",
       "      <td>DETUR_FACTOR</td>\n",
       "      <td>14.505189</td>\n",
       "    </tr>\n",
       "    <tr>\n",
       "      <td>17</td>\n",
       "      <td>LEG2_DEP_TIME_GMT_MINUTE</td>\n",
       "      <td>14.363134</td>\n",
       "    </tr>\n",
       "    <tr>\n",
       "      <td>12</td>\n",
       "      <td>LEG1_DURATION</td>\n",
       "      <td>14.353632</td>\n",
       "    </tr>\n",
       "    <tr>\n",
       "      <td>15</td>\n",
       "      <td>LEG2_ARR_TIME_GMT_MINUTE</td>\n",
       "      <td>14.302631</td>\n",
       "    </tr>\n",
       "    <tr>\n",
       "      <td>8</td>\n",
       "      <td>LEG1_ARR_TIME_GMT_MINUTE</td>\n",
       "      <td>14.301406</td>\n",
       "    </tr>\n",
       "    <tr>\n",
       "      <td>11</td>\n",
       "      <td>LEG1_DEP_TIME_GMT_MINUTE</td>\n",
       "      <td>14.037504</td>\n",
       "    </tr>\n",
       "    <tr>\n",
       "      <td>18</td>\n",
       "      <td>LEG2_DURATION</td>\n",
       "      <td>14.010523</td>\n",
       "    </tr>\n",
       "    <tr>\n",
       "      <td>14</td>\n",
       "      <td>LEG2_ARR_TIME_GMT_HOUR</td>\n",
       "      <td>13.952672</td>\n",
       "    </tr>\n",
       "    <tr>\n",
       "      <td>10</td>\n",
       "      <td>LEG1_DEP_TIME_GMT_HOUR</td>\n",
       "      <td>13.858910</td>\n",
       "    </tr>\n",
       "    <tr>\n",
       "      <td>16</td>\n",
       "      <td>LEG2_DEP_TIME_GMT_HOUR</td>\n",
       "      <td>13.845194</td>\n",
       "    </tr>\n",
       "    <tr>\n",
       "      <td>7</td>\n",
       "      <td>LEG1_ARR_TIME_GMT_HOUR</td>\n",
       "      <td>13.676678</td>\n",
       "    </tr>\n",
       "    <tr>\n",
       "      <td>9</td>\n",
       "      <td>LEG1_CABIN_CLASS</td>\n",
       "      <td>13.456840</td>\n",
       "    </tr>\n",
       "  </tbody>\n",
       "</table>\n",
       "</div>"
      ],
      "text/plain": [
       "                     feature  importance\n",
       "20                       OND   17.231087\n",
       "1                    CARRIER   17.170881\n",
       "23            OND_SELL_CLASS   17.057945\n",
       "5                  FLIGHT_NO   16.772280\n",
       "21                   OND_ALL   16.761809\n",
       "13           LEG1_SELL_CLASS   16.680160\n",
       "6                        HUB   16.268339\n",
       "3                DESTINATION   16.249628\n",
       "24                    ORIGIN   15.968956\n",
       "2            CONNECTION_TIME   15.328204\n",
       "22           OND_CABIN_CLASS   15.124746\n",
       "0              AIRCRAFT_TYPE   15.003013\n",
       "19              LEG_DURATION   14.891704\n",
       "4               DETUR_FACTOR   14.505189\n",
       "17  LEG2_DEP_TIME_GMT_MINUTE   14.363134\n",
       "12             LEG1_DURATION   14.353632\n",
       "15  LEG2_ARR_TIME_GMT_MINUTE   14.302631\n",
       "8   LEG1_ARR_TIME_GMT_MINUTE   14.301406\n",
       "11  LEG1_DEP_TIME_GMT_MINUTE   14.037504\n",
       "18             LEG2_DURATION   14.010523\n",
       "14    LEG2_ARR_TIME_GMT_HOUR   13.952672\n",
       "10    LEG1_DEP_TIME_GMT_HOUR   13.858910\n",
       "16    LEG2_DEP_TIME_GMT_HOUR   13.845194\n",
       "7     LEG1_ARR_TIME_GMT_HOUR   13.676678\n",
       "9           LEG1_CABIN_CLASS   13.456840"
      ]
     },
     "execution_count": 39,
     "metadata": {},
     "output_type": "execute_result"
    }
   ],
   "source": [
    "feature_importance.groupby(\"feature\")[\"importance\"].agg(\"mean\").reset_index().sort_values(\"importance\",ascending=False)"
   ]
  },
  {
   "cell_type": "code",
   "execution_count": 40,
   "metadata": {
    "scrolled": true
   },
   "outputs": [
    {
     "name": "stdout",
     "output_type": "stream",
     "text": [
      "Final rmse : 2.628596 -- mape : 0.649741 -- mae : 1.211657\n"
     ]
    }
   ],
   "source": [
    "oof_preds1 = np.where(oof_preds<1,1,oof_preds)\n",
    "sub_preds1 = np.where(sub_preds<1,1,sub_preds)\n",
    "final_rmse = sqrt(mean_squared_error(train_df['PSGR_COUNT'], oof_preds1))\n",
    "final_mape = mape(train_df['PSGR_COUNT'], oof_preds1) \n",
    "final_mae = mean_absolute_error(train_df['PSGR_COUNT'], oof_preds1)\n",
    "print('Final rmse : %.6f -- mape : %.6f -- mae : %.6f' % (final_rmse,final_mape,final_mae)) "
   ]
  },
  {
   "cell_type": "code",
   "execution_count": 48,
   "metadata": {
    "collapsed": true
   },
   "outputs": [
    {
     "name": "stdout",
     "output_type": "stream",
     "text": [
      "Starting LightGBM. Train shape: (9056281, 31)\n",
      "Training until validation scores don't improve for 200 rounds.\n",
      "[1000]\ttrain's rmse: 2.54333\tvalid's rmse: 2.64421\n",
      "[2000]\ttrain's rmse: 2.48924\tvalid's rmse: 2.63194\n",
      "[3000]\ttrain's rmse: 2.44635\tvalid's rmse: 2.62592\n",
      "[4000]\ttrain's rmse: 2.4125\tvalid's rmse: 2.62196\n",
      "[5000]\ttrain's rmse: 2.38733\tvalid's rmse: 2.62005\n",
      "[6000]\ttrain's rmse: 2.36654\tvalid's rmse: 2.61858\n",
      "[7000]\ttrain's rmse: 2.34837\tvalid's rmse: 2.61782\n",
      "[8000]\ttrain's rmse: 2.33134\tvalid's rmse: 2.61711\n",
      "Early stopping, best iteration is:\n",
      "[8036]\ttrain's rmse: 2.33064\tvalid's rmse: 2.61704\n",
      "Fold  1 -> rmse : 2.617041 -- mape : 0.649138 -- mae : 1.208753\n",
      "Training until validation scores don't improve for 200 rounds.\n",
      "[1000]\ttrain's rmse: 2.54225\tvalid's rmse: 2.64764\n",
      "[2000]\ttrain's rmse: 2.4788\tvalid's rmse: 2.63251\n",
      "[3000]\ttrain's rmse: 2.43705\tvalid's rmse: 2.62612\n",
      "[4000]\ttrain's rmse: 2.41097\tvalid's rmse: 2.62361\n",
      "[5000]\ttrain's rmse: 2.38584\tvalid's rmse: 2.62165\n",
      "Early stopping, best iteration is:\n",
      "[5644]\ttrain's rmse: 2.37368\tvalid's rmse: 2.62084\n",
      "Fold  2 -> rmse : 2.620842 -- mape : 0.649966 -- mae : 1.210594\n",
      "Training until validation scores don't improve for 200 rounds.\n",
      "[1000]\ttrain's rmse: 2.5354\tvalid's rmse: 2.66592\n",
      "[2000]\ttrain's rmse: 2.47465\tvalid's rmse: 2.65155\n",
      "[3000]\ttrain's rmse: 2.43344\tvalid's rmse: 2.64418\n",
      "[4000]\ttrain's rmse: 2.40591\tvalid's rmse: 2.64133\n",
      "[5000]\ttrain's rmse: 2.38295\tvalid's rmse: 2.63878\n",
      "[6000]\ttrain's rmse: 2.3645\tvalid's rmse: 2.63734\n",
      "[7000]\ttrain's rmse: 2.34552\tvalid's rmse: 2.63604\n",
      "Early stopping, best iteration is:\n",
      "[7688]\ttrain's rmse: 2.33356\tvalid's rmse: 2.63554\n",
      "Fold  3 -> rmse : 2.635541 -- mape : 0.648917 -- mae : 1.211848\n",
      "Overall RMSE : 2.624487 - Overall MAPE : 0.649341 - Overall MAE : 1.210398\n"
     ]
    }
   ],
   "source": [
    "params = {'objective': 'regression','metric': 'rmse','learning_rate': 0.05,'verbose': -1,'nthread':32,\n",
    "          'num_leaves': 10, 'min_data': 50, 'max_depth': 10, 'num_leaves': 31, 'min_data_in_leaf': 50, 'feature_fraction': 0.8,'bagging_fraction': 0.8}\n",
    "\n",
    "sub_preds, oof_preds, feature_importance = kfold_lightgbm(params,train_df,test_df,FEATS_EXCLUDED,9999)"
   ]
  },
  {
   "cell_type": "code",
   "execution_count": 52,
   "metadata": {
    "collapsed": true
   },
   "outputs": [
    {
     "data": {
      "text/html": [
       "<div>\n",
       "<style scoped>\n",
       "    .dataframe tbody tr th:only-of-type {\n",
       "        vertical-align: middle;\n",
       "    }\n",
       "\n",
       "    .dataframe tbody tr th {\n",
       "        vertical-align: top;\n",
       "    }\n",
       "\n",
       "    .dataframe thead th {\n",
       "        text-align: right;\n",
       "    }\n",
       "</style>\n",
       "<table border=\"1\" class=\"dataframe\">\n",
       "  <thead>\n",
       "    <tr style=\"text-align: right;\">\n",
       "      <th></th>\n",
       "      <th>feature</th>\n",
       "      <th>importance</th>\n",
       "    </tr>\n",
       "  </thead>\n",
       "  <tbody>\n",
       "    <tr>\n",
       "      <td>25</td>\n",
       "      <td>OND</td>\n",
       "      <td>17.389248</td>\n",
       "    </tr>\n",
       "    <tr>\n",
       "      <td>1</td>\n",
       "      <td>CARRIER</td>\n",
       "      <td>17.120615</td>\n",
       "    </tr>\n",
       "    <tr>\n",
       "      <td>28</td>\n",
       "      <td>OND_SELL_CLASS</td>\n",
       "      <td>17.057693</td>\n",
       "    </tr>\n",
       "    <tr>\n",
       "      <td>26</td>\n",
       "      <td>OND_ALL</td>\n",
       "      <td>16.935915</td>\n",
       "    </tr>\n",
       "    <tr>\n",
       "      <td>18</td>\n",
       "      <td>LEG1_SELL_CLASS</td>\n",
       "      <td>16.829299</td>\n",
       "    </tr>\n",
       "    <tr>\n",
       "      <td>5</td>\n",
       "      <td>FLIGHT_NO</td>\n",
       "      <td>16.762063</td>\n",
       "    </tr>\n",
       "    <tr>\n",
       "      <td>6</td>\n",
       "      <td>HUB</td>\n",
       "      <td>16.428159</td>\n",
       "    </tr>\n",
       "    <tr>\n",
       "      <td>3</td>\n",
       "      <td>DESTINATION</td>\n",
       "      <td>16.146635</td>\n",
       "    </tr>\n",
       "    <tr>\n",
       "      <td>29</td>\n",
       "      <td>ORIGIN</td>\n",
       "      <td>15.919302</td>\n",
       "    </tr>\n",
       "    <tr>\n",
       "      <td>12</td>\n",
       "      <td>LEG1_DEP_DATE_GMT_DAYOFYEAR</td>\n",
       "      <td>15.462738</td>\n",
       "    </tr>\n",
       "    <tr>\n",
       "      <td>2</td>\n",
       "      <td>CONNECTION_TIME</td>\n",
       "      <td>15.199013</td>\n",
       "    </tr>\n",
       "    <tr>\n",
       "      <td>27</td>\n",
       "      <td>OND_CABIN_CLASS</td>\n",
       "      <td>14.954721</td>\n",
       "    </tr>\n",
       "    <tr>\n",
       "      <td>0</td>\n",
       "      <td>AIRCRAFT_TYPE</td>\n",
       "      <td>14.859956</td>\n",
       "    </tr>\n",
       "    <tr>\n",
       "      <td>24</td>\n",
       "      <td>LEG_DURATION</td>\n",
       "      <td>14.796614</td>\n",
       "    </tr>\n",
       "    <tr>\n",
       "      <td>10</td>\n",
       "      <td>LEG1_DEP_DATE_GMT_DAYOFMONTH</td>\n",
       "      <td>14.792063</td>\n",
       "    </tr>\n",
       "    <tr>\n",
       "      <td>14</td>\n",
       "      <td>LEG1_DEP_DATE_GMT_WEEK</td>\n",
       "      <td>14.681915</td>\n",
       "    </tr>\n",
       "    <tr>\n",
       "      <td>4</td>\n",
       "      <td>DETUR_FACTOR</td>\n",
       "      <td>14.412003</td>\n",
       "    </tr>\n",
       "    <tr>\n",
       "      <td>17</td>\n",
       "      <td>LEG1_DURATION</td>\n",
       "      <td>14.203039</td>\n",
       "    </tr>\n",
       "    <tr>\n",
       "      <td>11</td>\n",
       "      <td>LEG1_DEP_DATE_GMT_DAYOFWEEK</td>\n",
       "      <td>14.131511</td>\n",
       "    </tr>\n",
       "    <tr>\n",
       "      <td>8</td>\n",
       "      <td>LEG1_ARR_TIME_GMT_MINUTE</td>\n",
       "      <td>14.054783</td>\n",
       "    </tr>\n",
       "    <tr>\n",
       "      <td>22</td>\n",
       "      <td>LEG2_DEP_TIME_GMT_MINUTE</td>\n",
       "      <td>14.019544</td>\n",
       "    </tr>\n",
       "    <tr>\n",
       "      <td>23</td>\n",
       "      <td>LEG2_DURATION</td>\n",
       "      <td>13.998790</td>\n",
       "    </tr>\n",
       "    <tr>\n",
       "      <td>20</td>\n",
       "      <td>LEG2_ARR_TIME_GMT_MINUTE</td>\n",
       "      <td>13.994258</td>\n",
       "    </tr>\n",
       "    <tr>\n",
       "      <td>19</td>\n",
       "      <td>LEG2_ARR_TIME_GMT_HOUR</td>\n",
       "      <td>13.821248</td>\n",
       "    </tr>\n",
       "    <tr>\n",
       "      <td>21</td>\n",
       "      <td>LEG2_DEP_TIME_GMT_HOUR</td>\n",
       "      <td>13.773054</td>\n",
       "    </tr>\n",
       "    <tr>\n",
       "      <td>16</td>\n",
       "      <td>LEG1_DEP_TIME_GMT_MINUTE</td>\n",
       "      <td>13.768544</td>\n",
       "    </tr>\n",
       "    <tr>\n",
       "      <td>15</td>\n",
       "      <td>LEG1_DEP_TIME_GMT_HOUR</td>\n",
       "      <td>13.716364</td>\n",
       "    </tr>\n",
       "    <tr>\n",
       "      <td>9</td>\n",
       "      <td>LEG1_CABIN_CLASS</td>\n",
       "      <td>13.690338</td>\n",
       "    </tr>\n",
       "    <tr>\n",
       "      <td>7</td>\n",
       "      <td>LEG1_ARR_TIME_GMT_HOUR</td>\n",
       "      <td>13.590199</td>\n",
       "    </tr>\n",
       "    <tr>\n",
       "      <td>13</td>\n",
       "      <td>LEG1_DEP_DATE_GMT_MONTH</td>\n",
       "      <td>13.359805</td>\n",
       "    </tr>\n",
       "  </tbody>\n",
       "</table>\n",
       "</div>"
      ],
      "text/plain": [
       "                         feature  importance\n",
       "25                           OND   17.389248\n",
       "1                        CARRIER   17.120615\n",
       "28                OND_SELL_CLASS   17.057693\n",
       "26                       OND_ALL   16.935915\n",
       "18               LEG1_SELL_CLASS   16.829299\n",
       "5                      FLIGHT_NO   16.762063\n",
       "6                            HUB   16.428159\n",
       "3                    DESTINATION   16.146635\n",
       "29                        ORIGIN   15.919302\n",
       "12   LEG1_DEP_DATE_GMT_DAYOFYEAR   15.462738\n",
       "2                CONNECTION_TIME   15.199013\n",
       "27               OND_CABIN_CLASS   14.954721\n",
       "0                  AIRCRAFT_TYPE   14.859956\n",
       "24                  LEG_DURATION   14.796614\n",
       "10  LEG1_DEP_DATE_GMT_DAYOFMONTH   14.792063\n",
       "14        LEG1_DEP_DATE_GMT_WEEK   14.681915\n",
       "4                   DETUR_FACTOR   14.412003\n",
       "17                 LEG1_DURATION   14.203039\n",
       "11   LEG1_DEP_DATE_GMT_DAYOFWEEK   14.131511\n",
       "8       LEG1_ARR_TIME_GMT_MINUTE   14.054783\n",
       "22      LEG2_DEP_TIME_GMT_MINUTE   14.019544\n",
       "23                 LEG2_DURATION   13.998790\n",
       "20      LEG2_ARR_TIME_GMT_MINUTE   13.994258\n",
       "19        LEG2_ARR_TIME_GMT_HOUR   13.821248\n",
       "21        LEG2_DEP_TIME_GMT_HOUR   13.773054\n",
       "16      LEG1_DEP_TIME_GMT_MINUTE   13.768544\n",
       "15        LEG1_DEP_TIME_GMT_HOUR   13.716364\n",
       "9               LEG1_CABIN_CLASS   13.690338\n",
       "7         LEG1_ARR_TIME_GMT_HOUR   13.590199\n",
       "13       LEG1_DEP_DATE_GMT_MONTH   13.359805"
      ]
     },
     "execution_count": 52,
     "metadata": {},
     "output_type": "execute_result"
    }
   ],
   "source": [
    "feature_importance.groupby(\"feature\")[\"importance\"].agg(\"mean\").reset_index().sort_values(\"importance\",ascending=False)"
   ]
  },
  {
   "cell_type": "code",
   "execution_count": 53,
   "metadata": {
    "scrolled": true
   },
   "outputs": [
    {
     "name": "stdout",
     "output_type": "stream",
     "text": [
      "Final rmse : 2.623387 -- mape : 0.647424 -- mae : 1.208084\n"
     ]
    }
   ],
   "source": [
    "oof_preds1 = np.where(oof_preds<1,1,oof_preds)\n",
    "sub_preds1 = np.where(sub_preds<1,1,sub_preds)\n",
    "final_rmse = sqrt(mean_squared_error(train_df['PSGR_COUNT'], oof_preds1))\n",
    "final_mape = mape(train_df['PSGR_COUNT'], oof_preds1) \n",
    "final_mae = mean_absolute_error(train_df['PSGR_COUNT'], oof_preds1)\n",
    "print('Final rmse : %.6f -- mape : %.6f -- mae : %.6f' % (final_rmse,final_mape,final_mae)) "
   ]
  },
  {
   "cell_type": "code",
   "execution_count": 44,
   "metadata": {
    "collapsed": true
   },
   "outputs": [
    {
     "name": "stdout",
     "output_type": "stream",
     "text": [
      "Starting LightGBM. Train shape: (9056281, 34)\n",
      "Training until validation scores don't improve for 200 rounds.\n",
      "[1000]\ttrain's rmse: 2.5471\tvalid's rmse: 2.64444\n",
      "[2000]\ttrain's rmse: 2.48783\tvalid's rmse: 2.63161\n",
      "[3000]\ttrain's rmse: 2.44821\tvalid's rmse: 2.62628\n",
      "[4000]\ttrain's rmse: 2.41631\tvalid's rmse: 2.62272\n",
      "[5000]\ttrain's rmse: 2.39256\tvalid's rmse: 2.62005\n",
      "[6000]\ttrain's rmse: 2.37185\tvalid's rmse: 2.61897\n",
      "[7000]\ttrain's rmse: 2.35146\tvalid's rmse: 2.61827\n",
      "Early stopping, best iteration is:\n",
      "[7292]\ttrain's rmse: 2.34486\tvalid's rmse: 2.61759\n",
      "Fold  1 -> rmse : 2.617586 -- mape : 0.649340 -- mae : 1.208630\n",
      "Training until validation scores don't improve for 200 rounds.\n",
      "[1000]\ttrain's rmse: 2.54217\tvalid's rmse: 2.64647\n",
      "[2000]\ttrain's rmse: 2.48015\tvalid's rmse: 2.63239\n",
      "[3000]\ttrain's rmse: 2.44104\tvalid's rmse: 2.62646\n",
      "[4000]\ttrain's rmse: 2.41393\tvalid's rmse: 2.62373\n",
      "[5000]\ttrain's rmse: 2.39048\tvalid's rmse: 2.62084\n",
      "[6000]\ttrain's rmse: 2.37102\tvalid's rmse: 2.6193\n",
      "[7000]\ttrain's rmse: 2.35219\tvalid's rmse: 2.61781\n",
      "Early stopping, best iteration is:\n",
      "[7199]\ttrain's rmse: 2.34824\tvalid's rmse: 2.61767\n",
      "Fold  2 -> rmse : 2.617667 -- mape : 0.648673 -- mae : 1.209194\n",
      "Training until validation scores don't improve for 200 rounds.\n",
      "[1000]\ttrain's rmse: 2.53817\tvalid's rmse: 2.66651\n",
      "[2000]\ttrain's rmse: 2.47961\tvalid's rmse: 2.65299\n",
      "[3000]\ttrain's rmse: 2.44075\tvalid's rmse: 2.64576\n",
      "[4000]\ttrain's rmse: 2.41329\tvalid's rmse: 2.64207\n",
      "[5000]\ttrain's rmse: 2.38909\tvalid's rmse: 2.63928\n",
      "[6000]\ttrain's rmse: 2.36911\tvalid's rmse: 2.63733\n",
      "[7000]\ttrain's rmse: 2.35117\tvalid's rmse: 2.63642\n",
      "Early stopping, best iteration is:\n",
      "[6865]\ttrain's rmse: 2.35319\tvalid's rmse: 2.63632\n",
      "Fold  3 -> rmse : 2.636316 -- mape : 0.649222 -- mae : 1.211941\n",
      "Overall RMSE : 2.623871 - Overall MAPE : 0.649079 - Overall MAE : 1.209922\n"
     ]
    }
   ],
   "source": [
    "params = {'objective': 'regression','metric': 'rmse','learning_rate': 0.05,'verbose': -1,'nthread':32,\n",
    "          'num_leaves': 10, 'min_data': 50, 'max_depth': 10, 'num_leaves': 31, 'min_data_in_leaf': 50, 'feature_fraction': 0.8,'bagging_fraction': 0.8}\n",
    "\n",
    "sub_preds, oof_preds, feature_importance = kfold_lightgbm(params,train_df,test_df,FEATS_EXCLUDED,9999)"
   ]
  },
  {
   "cell_type": "code",
   "execution_count": null,
   "metadata": {},
   "outputs": [],
   "source": [
    "# 26 Features 3 Fold Final rmse : 2.628596 -- mape : 0.649741 -- mae : 1.211657\n",
    "# 31 Features 3 Fold Final rmse : 2.623387 -- mape : 0.647424 -- mae : 1.208084\n",
    "# 34 Features + drop neg connection Final rmse : 2.620878 -- mape : 0.646605 -- mae : 1.207204 "
   ]
  },
  {
   "cell_type": "code",
   "execution_count": 45,
   "metadata": {},
   "outputs": [],
   "source": [
    "train_df = train_df[train_df[\"CONNECTION_TIME\"]>-33]"
   ]
  },
  {
   "cell_type": "code",
   "execution_count": 46,
   "metadata": {
    "collapsed": true
   },
   "outputs": [
    {
     "name": "stdout",
     "output_type": "stream",
     "text": [
      "Starting LightGBM. Train shape: (9041020, 34)\n",
      "Training until validation scores don't improve for 200 rounds.\n",
      "[1000]\ttrain's rmse: 2.54119\tvalid's rmse: 2.63692\n",
      "[2000]\ttrain's rmse: 2.4827\tvalid's rmse: 2.62413\n",
      "[3000]\ttrain's rmse: 2.4418\tvalid's rmse: 2.61635\n",
      "[4000]\ttrain's rmse: 2.41241\tvalid's rmse: 2.61277\n",
      "[5000]\ttrain's rmse: 2.39239\tvalid's rmse: 2.61094\n",
      "[6000]\ttrain's rmse: 2.37314\tvalid's rmse: 2.60915\n",
      "[7000]\ttrain's rmse: 2.35573\tvalid's rmse: 2.60814\n",
      "[8000]\ttrain's rmse: 2.33793\tvalid's rmse: 2.60725\n",
      "Early stopping, best iteration is:\n",
      "[8046]\ttrain's rmse: 2.33741\tvalid's rmse: 2.60721\n",
      "Fold  1 -> rmse : 2.607213 -- mape : 0.648620 -- mae : 1.209842\n",
      "Training until validation scores don't improve for 200 rounds.\n",
      "[1000]\ttrain's rmse: 2.53563\tvalid's rmse: 2.65648\n",
      "[2000]\ttrain's rmse: 2.4788\tvalid's rmse: 2.64372\n",
      "[3000]\ttrain's rmse: 2.43693\tvalid's rmse: 2.6366\n",
      "[4000]\ttrain's rmse: 2.40596\tvalid's rmse: 2.633\n",
      "[5000]\ttrain's rmse: 2.38302\tvalid's rmse: 2.63069\n",
      "[6000]\ttrain's rmse: 2.36272\tvalid's rmse: 2.62948\n",
      "[7000]\ttrain's rmse: 2.34613\tvalid's rmse: 2.62822\n",
      "[8000]\ttrain's rmse: 2.32955\tvalid's rmse: 2.62691\n",
      "[9000]\ttrain's rmse: 2.31167\tvalid's rmse: 2.62616\n",
      "Early stopping, best iteration is:\n",
      "[8943]\ttrain's rmse: 2.31279\tvalid's rmse: 2.62608\n",
      "Fold  2 -> rmse : 2.626084 -- mape : 0.648570 -- mae : 1.208906\n",
      "Training until validation scores don't improve for 200 rounds.\n",
      "[1000]\ttrain's rmse: 2.53665\tvalid's rmse: 2.66056\n",
      "[2000]\ttrain's rmse: 2.4802\tvalid's rmse: 2.64731\n",
      "[3000]\ttrain's rmse: 2.44079\tvalid's rmse: 2.64062\n",
      "[4000]\ttrain's rmse: 2.41293\tvalid's rmse: 2.63745\n",
      "[5000]\ttrain's rmse: 2.38852\tvalid's rmse: 2.63502\n",
      "[6000]\ttrain's rmse: 2.36671\tvalid's rmse: 2.63297\n",
      "Early stopping, best iteration is:\n",
      "[6366]\ttrain's rmse: 2.35942\tvalid's rmse: 2.63241\n",
      "Fold  3 -> rmse : 2.632406 -- mape : 0.648311 -- mae : 1.209744\n",
      "Overall RMSE : 2.621923 - Overall MAPE : 0.648500 - Overall MAE : 1.209498\n"
     ]
    }
   ],
   "source": [
    "params = {'objective': 'regression','metric': 'rmse','learning_rate': 0.05,'verbose': -1,'nthread':32,\n",
    "          'num_leaves': 10, 'min_data': 50, 'max_depth': 10, 'num_leaves': 31, 'min_data_in_leaf': 50, 'feature_fraction': 0.8,'bagging_fraction': 0.8}\n",
    "\n",
    "sub_preds, oof_preds, feature_importance = kfold_lightgbm(params,train_df,test_df,FEATS_EXCLUDED,9999)"
   ]
  },
  {
   "cell_type": "code",
   "execution_count": 47,
   "metadata": {
    "collapsed": true
   },
   "outputs": [
    {
     "data": {
      "text/html": [
       "<div>\n",
       "<style scoped>\n",
       "    .dataframe tbody tr th:only-of-type {\n",
       "        vertical-align: middle;\n",
       "    }\n",
       "\n",
       "    .dataframe tbody tr th {\n",
       "        vertical-align: top;\n",
       "    }\n",
       "\n",
       "    .dataframe thead th {\n",
       "        text-align: right;\n",
       "    }\n",
       "</style>\n",
       "<table border=\"1\" class=\"dataframe\">\n",
       "  <thead>\n",
       "    <tr style=\"text-align: right;\">\n",
       "      <th></th>\n",
       "      <th>feature</th>\n",
       "      <th>importance</th>\n",
       "    </tr>\n",
       "  </thead>\n",
       "  <tbody>\n",
       "    <tr>\n",
       "      <td>28</td>\n",
       "      <td>OND</td>\n",
       "      <td>17.387573</td>\n",
       "    </tr>\n",
       "    <tr>\n",
       "      <td>31</td>\n",
       "      <td>OND_SELL_CLASS</td>\n",
       "      <td>17.060428</td>\n",
       "    </tr>\n",
       "    <tr>\n",
       "      <td>1</td>\n",
       "      <td>CARRIER</td>\n",
       "      <td>17.004073</td>\n",
       "    </tr>\n",
       "    <tr>\n",
       "      <td>29</td>\n",
       "      <td>OND_ALL</td>\n",
       "      <td>16.903587</td>\n",
       "    </tr>\n",
       "    <tr>\n",
       "      <td>21</td>\n",
       "      <td>LEG1_SELL_CLASS</td>\n",
       "      <td>16.782648</td>\n",
       "    </tr>\n",
       "    <tr>\n",
       "      <td>7</td>\n",
       "      <td>FLIGHT_NO</td>\n",
       "      <td>16.740113</td>\n",
       "    </tr>\n",
       "    <tr>\n",
       "      <td>8</td>\n",
       "      <td>HUB</td>\n",
       "      <td>16.600773</td>\n",
       "    </tr>\n",
       "    <tr>\n",
       "      <td>3</td>\n",
       "      <td>DESTINATION</td>\n",
       "      <td>16.282493</td>\n",
       "    </tr>\n",
       "    <tr>\n",
       "      <td>32</td>\n",
       "      <td>ORIGIN</td>\n",
       "      <td>15.958717</td>\n",
       "    </tr>\n",
       "    <tr>\n",
       "      <td>15</td>\n",
       "      <td>LEG1_DEP_DATE_GMT_DAYOFYEAR</td>\n",
       "      <td>15.472485</td>\n",
       "    </tr>\n",
       "    <tr>\n",
       "      <td>2</td>\n",
       "      <td>CONNECTION_TIME</td>\n",
       "      <td>15.187424</td>\n",
       "    </tr>\n",
       "    <tr>\n",
       "      <td>30</td>\n",
       "      <td>OND_CABIN_CLASS</td>\n",
       "      <td>14.981543</td>\n",
       "    </tr>\n",
       "    <tr>\n",
       "      <td>0</td>\n",
       "      <td>AIRCRAFT_TYPE</td>\n",
       "      <td>14.875178</td>\n",
       "    </tr>\n",
       "    <tr>\n",
       "      <td>13</td>\n",
       "      <td>LEG1_DEP_DATE_GMT_DAYOFMONTH</td>\n",
       "      <td>14.805747</td>\n",
       "    </tr>\n",
       "    <tr>\n",
       "      <td>17</td>\n",
       "      <td>LEG1_DEP_DATE_GMT_WEEK</td>\n",
       "      <td>14.778678</td>\n",
       "    </tr>\n",
       "    <tr>\n",
       "      <td>27</td>\n",
       "      <td>LEG_DURATION</td>\n",
       "      <td>14.665076</td>\n",
       "    </tr>\n",
       "    <tr>\n",
       "      <td>9</td>\n",
       "      <td>HUB_FLIGHT_NO_nunique</td>\n",
       "      <td>14.611808</td>\n",
       "    </tr>\n",
       "    <tr>\n",
       "      <td>6</td>\n",
       "      <td>DETUR_FACTOR</td>\n",
       "      <td>14.425313</td>\n",
       "    </tr>\n",
       "    <tr>\n",
       "      <td>14</td>\n",
       "      <td>LEG1_DEP_DATE_GMT_DAYOFWEEK</td>\n",
       "      <td>14.192792</td>\n",
       "    </tr>\n",
       "    <tr>\n",
       "      <td>20</td>\n",
       "      <td>LEG1_DURATION</td>\n",
       "      <td>14.068503</td>\n",
       "    </tr>\n",
       "    <tr>\n",
       "      <td>23</td>\n",
       "      <td>LEG2_ARR_TIME_GMT_MINUTE</td>\n",
       "      <td>14.011227</td>\n",
       "    </tr>\n",
       "    <tr>\n",
       "      <td>25</td>\n",
       "      <td>LEG2_DEP_TIME_GMT_MINUTE</td>\n",
       "      <td>14.005212</td>\n",
       "    </tr>\n",
       "    <tr>\n",
       "      <td>11</td>\n",
       "      <td>LEG1_ARR_TIME_GMT_MINUTE</td>\n",
       "      <td>13.967429</td>\n",
       "    </tr>\n",
       "    <tr>\n",
       "      <td>22</td>\n",
       "      <td>LEG2_ARR_TIME_GMT_HOUR</td>\n",
       "      <td>13.835084</td>\n",
       "    </tr>\n",
       "    <tr>\n",
       "      <td>26</td>\n",
       "      <td>LEG2_DURATION</td>\n",
       "      <td>13.810476</td>\n",
       "    </tr>\n",
       "    <tr>\n",
       "      <td>19</td>\n",
       "      <td>LEG1_DEP_TIME_GMT_MINUTE</td>\n",
       "      <td>13.710168</td>\n",
       "    </tr>\n",
       "    <tr>\n",
       "      <td>24</td>\n",
       "      <td>LEG2_DEP_TIME_GMT_HOUR</td>\n",
       "      <td>13.709762</td>\n",
       "    </tr>\n",
       "    <tr>\n",
       "      <td>18</td>\n",
       "      <td>LEG1_DEP_TIME_GMT_HOUR</td>\n",
       "      <td>13.675128</td>\n",
       "    </tr>\n",
       "    <tr>\n",
       "      <td>5</td>\n",
       "      <td>DESTINATION_ORIGIN_nunique</td>\n",
       "      <td>13.660896</td>\n",
       "    </tr>\n",
       "    <tr>\n",
       "      <td>12</td>\n",
       "      <td>LEG1_CABIN_CLASS</td>\n",
       "      <td>13.636712</td>\n",
       "    </tr>\n",
       "    <tr>\n",
       "      <td>10</td>\n",
       "      <td>LEG1_ARR_TIME_GMT_HOUR</td>\n",
       "      <td>13.631098</td>\n",
       "    </tr>\n",
       "    <tr>\n",
       "      <td>16</td>\n",
       "      <td>LEG1_DEP_DATE_GMT_MONTH</td>\n",
       "      <td>13.358044</td>\n",
       "    </tr>\n",
       "    <tr>\n",
       "      <td>4</td>\n",
       "      <td>DESTINATION_FLIGHT_NO_nunique</td>\n",
       "      <td>13.308192</td>\n",
       "    </tr>\n",
       "  </tbody>\n",
       "</table>\n",
       "</div>"
      ],
      "text/plain": [
       "                          feature  importance\n",
       "28                            OND   17.387573\n",
       "31                 OND_SELL_CLASS   17.060428\n",
       "1                         CARRIER   17.004073\n",
       "29                        OND_ALL   16.903587\n",
       "21                LEG1_SELL_CLASS   16.782648\n",
       "7                       FLIGHT_NO   16.740113\n",
       "8                             HUB   16.600773\n",
       "3                     DESTINATION   16.282493\n",
       "32                         ORIGIN   15.958717\n",
       "15    LEG1_DEP_DATE_GMT_DAYOFYEAR   15.472485\n",
       "2                 CONNECTION_TIME   15.187424\n",
       "30                OND_CABIN_CLASS   14.981543\n",
       "0                   AIRCRAFT_TYPE   14.875178\n",
       "13   LEG1_DEP_DATE_GMT_DAYOFMONTH   14.805747\n",
       "17         LEG1_DEP_DATE_GMT_WEEK   14.778678\n",
       "27                   LEG_DURATION   14.665076\n",
       "9           HUB_FLIGHT_NO_nunique   14.611808\n",
       "6                    DETUR_FACTOR   14.425313\n",
       "14    LEG1_DEP_DATE_GMT_DAYOFWEEK   14.192792\n",
       "20                  LEG1_DURATION   14.068503\n",
       "23       LEG2_ARR_TIME_GMT_MINUTE   14.011227\n",
       "25       LEG2_DEP_TIME_GMT_MINUTE   14.005212\n",
       "11       LEG1_ARR_TIME_GMT_MINUTE   13.967429\n",
       "22         LEG2_ARR_TIME_GMT_HOUR   13.835084\n",
       "26                  LEG2_DURATION   13.810476\n",
       "19       LEG1_DEP_TIME_GMT_MINUTE   13.710168\n",
       "24         LEG2_DEP_TIME_GMT_HOUR   13.709762\n",
       "18         LEG1_DEP_TIME_GMT_HOUR   13.675128\n",
       "5      DESTINATION_ORIGIN_nunique   13.660896\n",
       "12               LEG1_CABIN_CLASS   13.636712\n",
       "10         LEG1_ARR_TIME_GMT_HOUR   13.631098\n",
       "16        LEG1_DEP_DATE_GMT_MONTH   13.358044\n",
       "4   DESTINATION_FLIGHT_NO_nunique   13.308192"
      ]
     },
     "execution_count": 47,
     "metadata": {},
     "output_type": "execute_result"
    }
   ],
   "source": [
    "feature_importance.groupby(\"feature\")[\"importance\"].agg(\"mean\").reset_index().sort_values(\"importance\",ascending=False)"
   ]
  },
  {
   "cell_type": "code",
   "execution_count": 59,
   "metadata": {
    "scrolled": true
   },
   "outputs": [
    {
     "name": "stdout",
     "output_type": "stream",
     "text": [
      "Final rmse : 2.620878 -- mape : 0.646605 -- mae : 1.207204\n"
     ]
    }
   ],
   "source": [
    "oof_preds1 = np.where(oof_preds<1,1,oof_preds)\n",
    "sub_preds1 = np.where(sub_preds<1,1,sub_preds)\n",
    "final_rmse = sqrt(mean_squared_error(train_df['PSGR_COUNT'], oof_preds1))\n",
    "final_mape = mape(train_df['PSGR_COUNT'], oof_preds1) \n",
    "final_mae = mean_absolute_error(train_df['PSGR_COUNT'], oof_preds1)\n",
    "print('Final rmse : %.6f -- mape : %.6f -- mae : %.6f' % (final_rmse,final_mape,final_mae)) "
   ]
  },
  {
   "cell_type": "markdown",
   "metadata": {},
   "source": [
    "### Log Transformation"
   ]
  },
  {
   "cell_type": "code",
   "execution_count": 43,
   "metadata": {},
   "outputs": [],
   "source": [
    "train_df[\"PSGR_COUNT\"] = np.log(train_df[\"PSGR_COUNT\"])"
   ]
  },
  {
   "cell_type": "code",
   "execution_count": 47,
   "metadata": {},
   "outputs": [
    {
     "data": {
      "image/png": "[encoded data removed]",
      "text/plain": [
       "<Figure size 432x288 with 1 Axes>"
      ]
     },
     "metadata": {},
     "output_type": "display_data"
    }
   ],
   "source": [
    "sns.distplot(train_df[\"PSGR_COUNT\"])\n",
    "plt.savefig(\"presentation/psgr_count_log.png\")"
   ]
  },
  {
   "cell_type": "code",
   "execution_count": null,
   "metadata": {},
   "outputs": [
    {
     "name": "stdout",
     "output_type": "stream",
     "text": [
      "Starting LightGBM. Train shape: (9056281, 25)\n",
      "Training until validation scores don't improve for 200 rounds.\n",
      "[1000]\ttrain's rmse: 0.573752\tvalid's rmse: 0.582107\n",
      "[2000]\ttrain's rmse: 0.565026\tvalid's rmse: 0.579215\n",
      "[3000]\ttrain's rmse: 0.559084\tvalid's rmse: 0.577905\n",
      "[4000]\ttrain's rmse: 0.554415\tvalid's rmse: 0.57717\n",
      "[5000]\ttrain's rmse: 0.5509\tvalid's rmse: 0.576768\n",
      "[6000]\ttrain's rmse: 0.547738\tvalid's rmse: 0.576535\n",
      "[7000]\ttrain's rmse: 0.54492\tvalid's rmse: 0.576417\n",
      "[8000]\ttrain's rmse: 0.542218\tvalid's rmse: 0.576155\n",
      "Early stopping, best iteration is:\n",
      "[8398]\ttrain's rmse: 0.541271\tvalid's rmse: 0.576122\n",
      "Fold  1 -> rmse : 0.576122 -- mape : inf -- mae : 0.458200\n"
     ]
    }
   ],
   "source": [
    "params = {'objective': 'regression','metric': 'rmse','learning_rate': 0.05,'verbose': -1,'nthread':12,\n",
    "          'num_leaves': 10, 'min_data': 50, 'max_depth': 10, 'num_leaves': 31, 'min_data_in_leaf': 50, 'feature_fraction': 0.8,'bagging_fraction': 0.8}\n",
    "\n",
    "sub_preds, oof_preds, feature_importance = kfold_lightgbm(params,train_df,test_df,FEATS_EXCLUDED,9999)"
   ]
  },
  {
   "cell_type": "code",
   "execution_count": 50,
   "metadata": {},
   "outputs": [],
   "source": [
    "oof_preds = np.exp(oof_preds)\n",
    "sub_preds = np.exp(sub_preds)\n",
    "train_df[\"PSGR_COUNT\"] = np.exp(train_df[\"PSGR_COUNT\"])"
   ]
  },
  {
   "cell_type": "code",
   "execution_count": 55,
   "metadata": {},
   "outputs": [
    {
     "name": "stdout",
     "output_type": "stream",
     "text": [
      "Final rmse : 2.727973 -- mape : 0.454435 -- mae : 1.086484\n"
     ]
    }
   ],
   "source": [
    "oof_preds = np.where(oof_preds<1,1,oof_preds)\n",
    "sub_preds = np.where(sub_preds<1,1,sub_preds)\n",
    "final_rmse = sqrt(mean_squared_error(train_df['PSGR_COUNT'], oof_preds))\n",
    "final_mape = mape(train_df['PSGR_COUNT'], oof_preds) \n",
    "final_mae = mean_absolute_error(train_df['PSGR_COUNT'], oof_preds)\n",
    "print('Final rmse : %.6f -- mape : %.6f -- mae : %.6f' % (final_rmse,final_mape,final_mae)) "
   ]
  }
 ],
 "metadata": {
  "kernelspec": {
   "display_name": "Python 3",
   "language": "python",
   "name": "python3"
  },
  "language_info": {
   "codemirror_mode": {
    "name": "ipython",
    "version": 3
   },
   "file_extension": ".py",
   "mimetype": "text/x-python",
   "name": "python",
   "nbconvert_exporter": "python",
   "pygments_lexer": "ipython3",
   "version": "3.6.3"
  }
 },
 "nbformat": 4,
 "nbformat_minor": 4
}
